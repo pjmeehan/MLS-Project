{
 "cells": [
  {
   "cell_type": "markdown",
   "metadata": {},
   "source": [
    "# Machine Learning and Statistics : Boston House Prices Assessment\n",
    "***"
   ]
  },
  {
   "cell_type": "markdown",
   "metadata": {},
   "source": [
    "Before I get into any project, I like to import all the libraries I will be using."
   ]
  },
  {
   "cell_type": "code",
   "execution_count": 200,
   "metadata": {},
   "outputs": [],
   "source": [
    "### import libraries necessary for the project\n",
    "\n",
    "import numpy as np\n",
    "import pandas as pd\n",
    "from scipy import stats\n",
    "import statsmodels.stats.weightstats as ws\n",
    "import matplotlib.pyplot as plt\n",
    "import keras as kr\n",
    "import seaborn as sns\n",
    "import sklearn.preprocessing as pre"
   ]
  },
  {
   "cell_type": "markdown",
   "metadata": {},
   "source": [
    "## ASSESSMENT OBJECTIVE"
   ]
  },
  {
   "cell_type": "markdown",
   "metadata": {},
   "source": [
    "This assessment will attempt to answer two questions: \n",
    "> 1. Is there a significant difference in median house prices between houses that are along Boston's Charles river and those that are not?\n",
    "> 2. Is it possible to accurately predict the median house price in Boston?\n",
    "\n",
    "To determine whether there is a significant difference in median house prices between those that are along the Charles river and those that are not, I will utilize inferential statistics. I will use keras to aid me in building a neural network to predict the median house price.\n",
    "\n",
    "The project will be broken into 3 sections:<br>\n",
    "> Section 1 : A general description of the Boston House Price dataset with the use of some descriptive statistics and plots.<br>\n",
    "> Section 2 : To find out if there is a significant difference between the median price of a house along the Charles river and houses that are not through the use of inferential statistics.<br>\n",
    "> Section 3 : To create a method that will allow the prediction of the median home price utilizing keras.<br>\n",
    "\n",
    "All this will be done with the use of the BostonHouse Prices dataset."
   ]
  },
  {
   "cell_type": "markdown",
   "metadata": {},
   "source": [
    "***"
   ]
  },
  {
   "cell_type": "markdown",
   "metadata": {},
   "source": [
    "### SECTION 1. THE BOSTON HOUSE PRICES DATASET"
   ]
  },
  {
   "cell_type": "markdown",
   "metadata": {},
   "source": [
    "The Boston House Prices dataset contains information collected by the U.S Census Service concerning housing in the area of Boston Massachusettes. The dataset consists of 506 samples across 14 variables (columns). Please see below for a description of the 14 variables.\n"
   ]
  },
  {
   "cell_type": "markdown",
   "metadata": {},
   "source": [
    "#### Boston Housing Dataset Columns\n",
    "\n",
    "\n",
    "- CRIM: Per capita crime rate by town.\n",
    "- ZN: Proportion of residential land zoned for lots over 25,000 sq. ft.\n",
    "- INDUS: Proportion of non-retail business acres per town.\n",
    "- CHAS: Charles River dummy variable (= 1 if tractbounds river; 0 otherwise).\n",
    "- NOX: Nitric oxide concentration (parts per 10 million).\n",
    "- RM: Average number of rooms per dwelling.\n",
    "- AGE: Proportion of owner-occupied units built prior to 1940.\n",
    "- DIS: Weighted distances to five Boston employme.=nt centers.\n",
    "- RAD: Index of accessibility to radial highways.\n",
    "- TAX: Full-value property tax rate per 10,000 USD.\n",
    "- PTRATIO: Pupil-teacher ratio by town.\n",
    "- B: 1000(Bk — 0.63)², where Bk is the proportion of [people of African American descent] by town.\n",
    "- LSTAT: Percentage of lower status of the population.\n",
    "- MEDV: Median value of owner-occupied homes in $1000s."
   ]
  },
  {
   "cell_type": "markdown",
   "metadata": {},
   "source": [
    "I could not find out exactly why the Boston House Price dataset is so popular especially with early learners of regression and machine learning, but I suppose it's because the dataset is very manageable. It is not loaded with a lot of data and the data is very clean.<br><br>\n",
    "To get an idea of what is in the dataset, I will import the dataset via csv file and printout the first 5 lines."
   ]
  },
  {
   "cell_type": "code",
   "execution_count": 201,
   "metadata": {},
   "outputs": [],
   "source": [
    "### CSV module is a built-in function that allows Python to parse these csv types of files.\n",
    "### use the import function to import the 'real' data set.\n",
    "\n",
    "import csv"
   ]
  },
  {
   "cell_type": "code",
   "execution_count": 202,
   "metadata": {},
   "outputs": [],
   "source": [
    "### use open function to open the file with the data.\n",
    "\n",
    "a = open(\"bostonhousing.csv\")"
   ]
  },
  {
   "cell_type": "code",
   "execution_count": 225,
   "metadata": {},
   "outputs": [
    {
     "data": {
      "text/html": [
       "<div>\n",
       "<style scoped>\n",
       "    .dataframe tbody tr th:only-of-type {\n",
       "        vertical-align: middle;\n",
       "    }\n",
       "\n",
       "    .dataframe tbody tr th {\n",
       "        vertical-align: top;\n",
       "    }\n",
       "\n",
       "    .dataframe thead th {\n",
       "        text-align: right;\n",
       "    }\n",
       "</style>\n",
       "<table border=\"1\" class=\"dataframe\">\n",
       "  <thead>\n",
       "    <tr style=\"text-align: right;\">\n",
       "      <th></th>\n",
       "      <th>CRIM</th>\n",
       "      <th>ZN</th>\n",
       "      <th>INDUS</th>\n",
       "      <th>CHAS</th>\n",
       "      <th>NOX</th>\n",
       "      <th>RM</th>\n",
       "      <th>AGE</th>\n",
       "      <th>DIS</th>\n",
       "      <th>RAD</th>\n",
       "      <th>TAX</th>\n",
       "      <th>PTRATIO</th>\n",
       "      <th>B</th>\n",
       "      <th>LSTAT</th>\n",
       "      <th>MEDV</th>\n",
       "    </tr>\n",
       "  </thead>\n",
       "  <tbody>\n",
       "    <tr>\n",
       "      <th>0</th>\n",
       "      <td>0.00632</td>\n",
       "      <td>18.0</td>\n",
       "      <td>2.31</td>\n",
       "      <td>0.0</td>\n",
       "      <td>0.538</td>\n",
       "      <td>6.575</td>\n",
       "      <td>65.2</td>\n",
       "      <td>4.0900</td>\n",
       "      <td>1</td>\n",
       "      <td>296</td>\n",
       "      <td>15.3</td>\n",
       "      <td>396.90</td>\n",
       "      <td>4.98</td>\n",
       "      <td>24.0</td>\n",
       "    </tr>\n",
       "    <tr>\n",
       "      <th>1</th>\n",
       "      <td>0.02731</td>\n",
       "      <td>0.0</td>\n",
       "      <td>7.07</td>\n",
       "      <td>0.0</td>\n",
       "      <td>0.469</td>\n",
       "      <td>6.421</td>\n",
       "      <td>78.9</td>\n",
       "      <td>4.9671</td>\n",
       "      <td>2</td>\n",
       "      <td>242</td>\n",
       "      <td>17.8</td>\n",
       "      <td>396.90</td>\n",
       "      <td>9.14</td>\n",
       "      <td>21.6</td>\n",
       "    </tr>\n",
       "    <tr>\n",
       "      <th>2</th>\n",
       "      <td>0.02729</td>\n",
       "      <td>0.0</td>\n",
       "      <td>7.07</td>\n",
       "      <td>0.0</td>\n",
       "      <td>0.469</td>\n",
       "      <td>7.185</td>\n",
       "      <td>61.1</td>\n",
       "      <td>4.9671</td>\n",
       "      <td>2</td>\n",
       "      <td>242</td>\n",
       "      <td>17.8</td>\n",
       "      <td>392.83</td>\n",
       "      <td>4.03</td>\n",
       "      <td>34.7</td>\n",
       "    </tr>\n",
       "    <tr>\n",
       "      <th>3</th>\n",
       "      <td>0.03237</td>\n",
       "      <td>0.0</td>\n",
       "      <td>2.18</td>\n",
       "      <td>0.0</td>\n",
       "      <td>0.458</td>\n",
       "      <td>6.998</td>\n",
       "      <td>45.8</td>\n",
       "      <td>6.0622</td>\n",
       "      <td>3</td>\n",
       "      <td>222</td>\n",
       "      <td>18.7</td>\n",
       "      <td>394.63</td>\n",
       "      <td>2.94</td>\n",
       "      <td>33.4</td>\n",
       "    </tr>\n",
       "    <tr>\n",
       "      <th>4</th>\n",
       "      <td>0.06905</td>\n",
       "      <td>0.0</td>\n",
       "      <td>2.18</td>\n",
       "      <td>0.0</td>\n",
       "      <td>0.458</td>\n",
       "      <td>7.147</td>\n",
       "      <td>54.2</td>\n",
       "      <td>6.0622</td>\n",
       "      <td>3</td>\n",
       "      <td>222</td>\n",
       "      <td>18.7</td>\n",
       "      <td>396.90</td>\n",
       "      <td>NaN</td>\n",
       "      <td>36.2</td>\n",
       "    </tr>\n",
       "  </tbody>\n",
       "</table>\n",
       "</div>"
      ],
      "text/plain": [
       "      CRIM    ZN  INDUS  CHAS    NOX     RM   AGE     DIS  RAD  TAX  PTRATIO  \\\n",
       "0  0.00632  18.0   2.31   0.0  0.538  6.575  65.2  4.0900    1  296     15.3   \n",
       "1  0.02731   0.0   7.07   0.0  0.469  6.421  78.9  4.9671    2  242     17.8   \n",
       "2  0.02729   0.0   7.07   0.0  0.469  7.185  61.1  4.9671    2  242     17.8   \n",
       "3  0.03237   0.0   2.18   0.0  0.458  6.998  45.8  6.0622    3  222     18.7   \n",
       "4  0.06905   0.0   2.18   0.0  0.458  7.147  54.2  6.0622    3  222     18.7   \n",
       "\n",
       "        B  LSTAT  MEDV  \n",
       "0  396.90   4.98  24.0  \n",
       "1  396.90   9.14  21.6  \n",
       "2  392.83   4.03  34.7  \n",
       "3  394.63   2.94  33.4  \n",
       "4  396.90    NaN  36.2  "
      ]
     },
     "execution_count": 225,
     "metadata": {},
     "output_type": "execute_result"
    }
   ],
   "source": [
    "### The reader object allows iteration, much like a regular file object does. This allows for iteration over each row \n",
    "### in the reader object and the print out of the line of data, minus the commas. This works because each row is a list\n",
    "### and we can join each element in the list together, forming one long string.[6]\n",
    "### This is done for the complete dataset.\n",
    "### df = pd.read_csv(\"bostonhousing.csv\") creates the data frame for the data set.\n",
    "### The df.head() function gives us the first five lines of the data set.\n",
    "\n",
    "csv_a=csv.reader(a)\n",
    "df = pd.read_csv(\"bostonhousing.csv\")\n",
    "df.head()\n"
   ]
  },
  {
   "cell_type": "code",
   "execution_count": 226,
   "metadata": {},
   "outputs": [
    {
     "data": {
      "text/plain": [
       "CRIM        True\n",
       "ZN          True\n",
       "INDUS       True\n",
       "CHAS        True\n",
       "NOX        False\n",
       "RM         False\n",
       "AGE         True\n",
       "DIS        False\n",
       "RAD        False\n",
       "TAX        False\n",
       "PTRATIO    False\n",
       "B          False\n",
       "LSTAT       True\n",
       "MEDV       False\n",
       "dtype: bool"
      ]
     },
     "execution_count": 226,
     "metadata": {},
     "output_type": "execute_result"
    }
   ],
   "source": [
    "nl = df.isnull().any()\n",
    "nl"
   ]
  },
  {
   "cell_type": "markdown",
   "metadata": {},
   "source": [
    "Since both are questions relate to the median price of the houses, I will use some plots to see a good visualization of the median house prices. The first plot will be the distribution plot of the median house value.\n",
    "The way I will do this is to use a distibution plot using the seaborn library."
   ]
  },
  {
   "cell_type": "code",
   "execution_count": 204,
   "metadata": {
    "scrolled": true
   },
   "outputs": [
    {
     "data": {
      "image/png": "[encoded data removed]",
      "text/plain": [
       "<Figure size 1080x360 with 1 Axes>"
      ]
     },
     "metadata": {},
     "output_type": "display_data"
    }
   ],
   "source": [
    "sns.set(rc={'figure.figsize':(15.0,5.0)})\n",
    "sns.distplot(df['MEDV'])\n",
    "plt.show()"
   ]
  },
  {
   "cell_type": "markdown",
   "metadata": {},
   "source": [
    "The distribution is fairly normal with a few outliers. It also shows that a good amount of houses' median values are in the 19,000 to 25,000 range.<br>\n",
    "To get a better visualization of the data, I'll plot the frequency by median value (MEDV) using a basic histogram plot."
   ]
  },
  {
   "cell_type": "code",
   "execution_count": 205,
   "metadata": {
    "scrolled": true
   },
   "outputs": [
    {
     "data": {
      "text/plain": [
       "<matplotlib.axes._subplots.AxesSubplot at 0x1c104d52278>"
      ]
     },
     "execution_count": 205,
     "metadata": {},
     "output_type": "execute_result"
    },
    {
     "data": {
      "image/png": "[encoded data removed]",
      "text/plain": [
       "<Figure size 1080x360 with 1 Axes>"
      ]
     },
     "metadata": {},
     "output_type": "display_data"
    }
   ],
   "source": [
    "plt.rcParams['figure.figsize'] = (15.0, 5.0)\n",
    "df['MEDV'].hist()"
   ]
  },
  {
   "cell_type": "markdown",
   "metadata": {},
   "source": [
    "Again this just supports the distribution plot in showing a fairly normal distribution and also gives a good overall visualization to the median value of house prices in Boston based on the dataset."
   ]
  },
  {
   "cell_type": "markdown",
   "metadata": {},
   "source": [
    "The plots are nice and give a good idea of the median house price but I also want to see some basic stats like max price and min price. To do this, I'll just run a describe on the MEDV column.\n"
   ]
  },
  {
   "cell_type": "code",
   "execution_count": 206,
   "metadata": {},
   "outputs": [
    {
     "data": {
      "text/plain": [
       "count    506.000000\n",
       "mean      22.532806\n",
       "std        9.197104\n",
       "min        5.000000\n",
       "25%       17.025000\n",
       "50%       21.200000\n",
       "75%       25.000000\n",
       "max       50.000000\n",
       "Name: MEDV, dtype: float64"
      ]
     },
     "execution_count": 206,
     "metadata": {},
     "output_type": "execute_result"
    }
   ],
   "source": [
    "df['MEDV'].describe()"
   ]
  },
  {
   "cell_type": "markdown",
   "metadata": {},
   "source": [
    "So we see that the max value is 50.0 and the min value is 5.0 with a mean of 22.532. "
   ]
  },
  {
   "cell_type": "markdown",
   "metadata": {},
   "source": [
    "### SECTION 2. MEDIAN HOUSE PRICE DIFFERENCE"
   ]
  },
  {
   "cell_type": "markdown",
   "metadata": {},
   "source": [
    "I will use inferential statistics to analyse whether there is a significant difference in the median house prices\n",
    "that are along the Charles River verse those that aren't. More specifically, I will use a t-test.\n",
    "\"A t-test is a parametric test which tells you how significant the differences between group sare;In other words, \n",
    "it lets you know if those differences(measured in means/averages) could have happened by chance.\" (1)<br>\n",
    "Before we run the t-test, I need to calculate the median values of the houses along the Charles River and the houses not along the Charles River."
   ]
  },
  {
   "cell_type": "markdown",
   "metadata": {},
   "source": [
    "You'll notice in the dataset, that the CHAS column is filled with either a 0 or a 1. 0 means that the house is not on the Charles River and 1 means that it is on the Charles River. This is important because this will help us to answer our first question, is the median value of a house along the Charles River more than one that is not? Below I will separate the the 0 and 1 by calling them o and n respectively and then determining there median values as well as their count."
   ]
  },
  {
   "cell_type": "code",
   "execution_count": 207,
   "metadata": {},
   "outputs": [],
   "source": [
    "o = df[df['CHAS'] == 1.0]\n",
    "n = df[df['CHAS'] == 0.0]"
   ]
  },
  {
   "cell_type": "code",
   "execution_count": 208,
   "metadata": {},
   "outputs": [
    {
     "name": "stdout",
     "output_type": "stream",
     "text": [
      "The number of houses on the Charles River is: 34\n",
      "----------------\n",
      "The number of houses NOT on the Charles River is: 452\n",
      "----------------\n",
      "The mean price for a house on the Charles River is: 28.826470588235296\n",
      "----------------\n",
      "The mean price for a house NOT on the Charles River is: 22.215044247787635\n"
     ]
    }
   ],
   "source": [
    "# calculate the means\n",
    "nA = len(o)\n",
    "nB = len(n)\n",
    "print('The number of houses on the Charles River is:',(nA))\n",
    "print('----------------')\n",
    "print('The number of houses NOT on the Charles River is:',(nB))\n",
    "print('----------------')\n",
    "mo = np.mean(o.MEDV)\n",
    "mn = np.mean(n.MEDV)\n",
    "print('The mean price for a house on the Charles River is:',(mo))\n",
    "\n",
    "print('----------------')\n",
    "print('The mean price for a house NOT on the Charles River is:',(mn))\n",
    "\n",
    "\n"
   ]
  },
  {
   "cell_type": "markdown",
   "metadata": {},
   "source": [
    "### t test"
   ]
  },
  {
   "cell_type": "markdown",
   "metadata": {},
   "source": [
    "To find out if there is a difference between the median value of a house on the Charles river and a house not along the Charles River, I will use a t-test.\n",
    "A t-test will test the null hypotheses. the null hypothesis in medain value is whether the median value of a house along the Charles River is EQUAL to a house not along the Charles River. An important note to make is that the data in the Boston Housing dataset is just a small sample of the population of houses in Boston. The t-test will provide a result based on the population."
   ]
  },
  {
   "cell_type": "code",
   "execution_count": 209,
   "metadata": {},
   "outputs": [
    {
     "name": "stdout",
     "output_type": "stream",
     "text": [
      "Ttest_indResult(statistic=4.0579276717243715, pvalue=5.771528121432793e-05)\n"
     ]
    }
   ],
   "source": [
    "print(stats.ttest_ind(o['MEDV'], n['MEDV']))"
   ]
  },
  {
   "cell_type": "markdown",
   "metadata": {},
   "source": [
    "Based on the pvalue in the results of the t-test, we would reject the null hypothesis. This basically says that the means of the the two populations are different."
   ]
  },
  {
   "cell_type": "markdown",
   "metadata": {},
   "source": [
    "# INFER"
   ]
  },
  {
   "cell_type": "markdown",
   "metadata": {},
   "source": [
    "temporary section guideline notes :\n",
    "1. use inferential stats to analyse whether there is a significant difference in median house prices between houses that are along the Charles river vs those that are not.\n",
    "2. explain and discuss my findings (ie  "
   ]
  },
  {
   "cell_type": "code",
   "execution_count": 210,
   "metadata": {},
   "outputs": [],
   "source": [
    "#df.corr().round(4)"
   ]
  },
  {
   "cell_type": "code",
   "execution_count": 211,
   "metadata": {},
   "outputs": [],
   "source": [
    "# based on https://towardsdatascience.com/linear-regression-on-boston-housing-dataset-f409b7e4a155\n",
    "\n",
    "#correlation_matrix = df.corr().round(2)\n",
    "# annot = True to print the values inside the square\n",
    "#sns.heatmap(data=correlation_matrix, annot=True)"
   ]
  },
  {
   "cell_type": "code",
   "execution_count": 212,
   "metadata": {},
   "outputs": [],
   "source": [
    "# Make the plots bigger.\n",
    "plt.rcParams['figure.figsize'] = (15.0, 15.0)"
   ]
  },
  {
   "cell_type": "markdown",
   "metadata": {},
   "source": [
    "# what statistics do you want to use?"
   ]
  },
  {
   "cell_type": "markdown",
   "metadata": {},
   "source": [
    "# PREDICT"
   ]
  },
  {
   "cell_type": "code",
   "execution_count": 213,
   "metadata": {},
   "outputs": [],
   "source": [
    "#x = df.iloc[:, 0:13]\n",
    "x = df.drop(columns=['MEDV'])\n"
   ]
  },
  {
   "cell_type": "code",
   "execution_count": 214,
   "metadata": {},
   "outputs": [],
   "source": [
    "y = df['MEDV']\n"
   ]
  },
  {
   "cell_type": "code",
   "execution_count": 215,
   "metadata": {},
   "outputs": [],
   "source": [
    "xscale = pd.DataFrame(pre.scale(x), columns=x.columns)\n",
    "#xscale"
   ]
  },
  {
   "cell_type": "code",
   "execution_count": null,
   "metadata": {},
   "outputs": [],
   "source": []
  },
  {
   "cell_type": "code",
   "execution_count": null,
   "metadata": {},
   "outputs": [],
   "source": []
  },
  {
   "cell_type": "code",
   "execution_count": 216,
   "metadata": {},
   "outputs": [],
   "source": [
    "# make plot bigger\n",
    "#plt.rcParams['figure.figsize'] = 10, 10"
   ]
  },
  {
   "cell_type": "code",
   "execution_count": 222,
   "metadata": {},
   "outputs": [],
   "source": [
    "# create a neural network\n",
    "m = kr.models.Sequential()\n",
    "\n",
    "# add neurons\n",
    "m.add(kr.layers.Dense(13, activation=\"relu\", input_shape=(13,)))\n",
    "m.add(kr.layers.Dense(13, activation=\"relu\"))\n",
    "\n",
    "# add layer to output prediction of MEDV, therefore size equals 1.\n",
    "m.add(kr.layers.Dense(1))                     \n",
    "                      \n",
    "# compile the model\n",
    "m.compile(optimizer=\"adam\", loss=\"mean_squared_error\")\n"
   ]
  },
  {
   "cell_type": "code",
   "execution_count": 223,
   "metadata": {},
   "outputs": [
    {
     "name": "stdout",
     "output_type": "stream",
     "text": [
      "Epoch 1/30\n",
      "506/506 [==============================] - 0s 974us/step - loss: nan\n",
      "Epoch 2/30\n",
      "506/506 [==============================] - 0s 39us/step - loss: nan\n",
      "Epoch 3/30\n",
      "506/506 [==============================] - 0s 54us/step - loss: nan\n",
      "Epoch 4/30\n",
      "506/506 [==============================] - 0s 61us/step - loss: nan\n",
      "Epoch 5/30\n",
      "506/506 [==============================] - 0s 35us/step - loss: nan\n",
      "Epoch 6/30\n",
      "506/506 [==============================] - 0s 57us/step - loss: nan\n",
      "Epoch 7/30\n",
      "506/506 [==============================] - 0s 35us/step - loss: nan\n",
      "Epoch 8/30\n",
      "506/506 [==============================] - 0s 55us/step - loss: nan\n",
      "Epoch 9/30\n",
      "506/506 [==============================] - 0s 55us/step - loss: nan\n",
      "Epoch 10/30\n",
      "506/506 [==============================] - 0s 51us/step - loss: nan\n",
      "Epoch 11/30\n",
      "506/506 [==============================] - 0s 57us/step - loss: nan\n",
      "Epoch 12/30\n",
      "506/506 [==============================] - 0s 51us/step - loss: nan\n",
      "Epoch 13/30\n",
      "506/506 [==============================] - 0s 49us/step - loss: nan\n",
      "Epoch 14/30\n",
      "506/506 [==============================] - 0s 51us/step - loss: nan\n",
      "Epoch 15/30\n",
      "506/506 [==============================] - 0s 49us/step - loss: nan\n",
      "Epoch 16/30\n",
      "506/506 [==============================] - 0s 51us/step - loss: nan\n",
      "Epoch 17/30\n",
      "506/506 [==============================] - 0s 49us/step - loss: nan\n",
      "Epoch 18/30\n",
      "506/506 [==============================] - 0s 47us/step - loss: nan\n",
      "Epoch 19/30\n",
      "506/506 [==============================] - 0s 87us/step - loss: nan\n",
      "Epoch 20/30\n",
      "506/506 [==============================] - 0s 77us/step - loss: nan\n",
      "Epoch 21/30\n",
      "506/506 [==============================] - 0s 61us/step - loss: nan\n",
      "Epoch 22/30\n",
      "506/506 [==============================] - 0s 51us/step - loss: nan\n",
      "Epoch 23/30\n",
      "506/506 [==============================] - 0s 65us/step - loss: nan\n",
      "Epoch 24/30\n",
      "506/506 [==============================] - 0s 59us/step - loss: nan\n",
      "Epoch 25/30\n",
      "506/506 [==============================] - 0s 57us/step - loss: nan\n",
      "Epoch 26/30\n",
      "506/506 [==============================] - 0s 63us/step - loss: nan\n",
      "Epoch 27/30\n",
      "506/506 [==============================] - 0s 57us/step - loss: nan\n",
      "Epoch 28/30\n",
      "506/506 [==============================] - 0s 53us/step - loss: nan\n",
      "Epoch 29/30\n",
      "506/506 [==============================] - 0s 51us/step - loss: nan\n",
      "Epoch 30/30\n",
      "506/506 [==============================] - 0s 51us/step - loss: nan\n"
     ]
    },
    {
     "data": {
      "text/plain": [
       "<keras.callbacks.callbacks.History at 0x1c1054df550>"
      ]
     },
     "execution_count": 223,
     "metadata": {},
     "output_type": "execute_result"
    }
   ],
   "source": [
    "# train the model\n",
    "m.fit(x, y, epochs=30)"
   ]
  },
  {
   "cell_type": "code",
   "execution_count": 219,
   "metadata": {
    "scrolled": true
   },
   "outputs": [],
   "source": [
    "# plot the values\n",
    "#plt.plot(x, y, 'k.')"
   ]
  },
  {
   "cell_type": "code",
   "execution_count": null,
   "metadata": {},
   "outputs": [],
   "source": []
  },
  {
   "cell_type": "markdown",
   "metadata": {},
   "source": [
    "## REFERENCES\n",
    "\n",
    "1. https://towardsdatascience.com/hypothesis-testing-using-t-test-inferential-statistics-part3-6fb43683bc32\n",
    "2. https://towardsdatascience.com/linear-regression-on-boston-housing-dataset-f409b7e4a155"
   ]
  },
  {
   "cell_type": "code",
   "execution_count": null,
   "metadata": {},
   "outputs": [],
   "source": []
  }
 ],
 "metadata": {
  "kernelspec": {
   "display_name": "Python 3",
   "language": "python",
   "name": "python3"
  },
  "language_info": {
   "codemirror_mode": {
    "name": "ipython",
    "version": 3
   },
   "file_extension": ".py",
   "mimetype": "text/x-python",
   "name": "python",
   "nbconvert_exporter": "python",
   "pygments_lexer": "ipython3",
   "version": "3.7.3"
  }
 },
 "nbformat": 4,
 "nbformat_minor": 2
}
