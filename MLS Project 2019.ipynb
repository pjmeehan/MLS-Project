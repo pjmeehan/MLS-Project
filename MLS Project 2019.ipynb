{
 "cells": [
  {
   "cell_type": "markdown",
   "metadata": {},
   "source": [
    "# Machine Learning and Statistics : Boston House Prices Assessment\n",
    "***"
   ]
  },
  {
   "cell_type": "markdown",
   "metadata": {},
   "source": [
    "Before I get into any project, I like to import all the libraries I will be using."
   ]
  },
  {
   "cell_type": "code",
   "execution_count": 224,
   "metadata": {},
   "outputs": [],
   "source": [
    "### import libraries necessary for the project\n",
    "\n",
    "import numpy as np\n",
    "import pandas as pd\n",
    "from scipy import stats\n",
    "import statsmodels.stats.weightstats as ws\n",
    "import matplotlib.pyplot as plt\n",
    "import keras as kr\n",
    "import seaborn as sns\n",
    "import sklearn.preprocessing as pre\n",
    "from sklearn.model_selection import train_test_split \n",
    "from sklearn import metrics\n",
    "from keras.callbacks import EarlyStopping"
   ]
  },
  {
   "cell_type": "markdown",
   "metadata": {},
   "source": [
    "***"
   ]
  },
  {
   "cell_type": "markdown",
   "metadata": {},
   "source": [
    "### SECTION 1. THE BOSTON HOUSE PRICES DATASET"
   ]
  },
  {
   "cell_type": "markdown",
   "metadata": {},
   "source": [
    "The Boston House Prices dataset contains information collected by the U.S Census Service concerning housing in the area of Boston Massachusettes. The dataset consists of 506 samples across 14 variables (columns). Please see below for a description of the 14 variables. (1)\n"
   ]
  },
  {
   "cell_type": "markdown",
   "metadata": {},
   "source": [
    "#### Boston Housing Dataset Columns\n",
    "\n",
    "\n",
    "- CRIM: Per capita crime rate by town.\n",
    "- ZN: Proportion of residential land zoned for lots over 25,000 sq. ft.\n",
    "- INDUS: Proportion of non-retail business acres per town.\n",
    "- CHAS: Charles River dummy variable (= 1 if tractbounds river; 0 otherwise).\n",
    "- NOX: Nitric oxide concentration (parts per 10 million).\n",
    "- RM: Average number of rooms per dwelling.\n",
    "- AGE: Proportion of owner-occupied units built prior to 1940.\n",
    "- DIS: Weighted distances to five Boston employme.=nt centers.\n",
    "- RAD: Index of accessibility to radial highways.\n",
    "- TAX: Full-value property tax rate per 10,000 USD.\n",
    "- PTRATIO: Pupil-teacher ratio by town.\n",
    "- B: 1000(Bk — 0.63)², where Bk is the proportion of [people of African American descent] by town.\n",
    "- LSTAT: Percentage of lower status of the population.\n",
    "- MEDV: Median value of owner-occupied homes in $1000s."
   ]
  },
  {
   "cell_type": "markdown",
   "metadata": {},
   "source": [
    "I could not find out exactly why the Boston House Price dataset is so popular especially with early learners of regression and machine learning, but I suppose it's because the dataset is very manageable. It is not loaded with a lot of data and the data is very clean.<br><br>\n",
    "To get an idea of what is in the dataset, I will import the dataset via csv file and printout the first 5 lines."
   ]
  },
  {
   "cell_type": "markdown",
   "metadata": {},
   "source": [
    "#### LOAD DATASET"
   ]
  },
  {
   "cell_type": "code",
   "execution_count": 225,
   "metadata": {},
   "outputs": [],
   "source": [
    "### CSV module is a built-in function that allows Python to parse these csv types of files.\n",
    "### use the import function to import the 'real' data set.\n",
    "### I used the following to download the dataset https://github.com/selva86/datasets/blob/master/BostonHousing.csv (1a)\n",
    "\n",
    "import csv"
   ]
  },
  {
   "cell_type": "code",
   "execution_count": 226,
   "metadata": {},
   "outputs": [],
   "source": [
    "### use open function to open the file with the data.\n",
    "\n",
    "a = open(\"bostonhousing.csv\")"
   ]
  },
  {
   "cell_type": "code",
   "execution_count": 227,
   "metadata": {},
   "outputs": [
    {
     "data": {
      "text/html": [
       "<div>\n",
       "<style scoped>\n",
       "    .dataframe tbody tr th:only-of-type {\n",
       "        vertical-align: middle;\n",
       "    }\n",
       "\n",
       "    .dataframe tbody tr th {\n",
       "        vertical-align: top;\n",
       "    }\n",
       "\n",
       "    .dataframe thead th {\n",
       "        text-align: right;\n",
       "    }\n",
       "</style>\n",
       "<table border=\"1\" class=\"dataframe\">\n",
       "  <thead>\n",
       "    <tr style=\"text-align: right;\">\n",
       "      <th></th>\n",
       "      <th>crim</th>\n",
       "      <th>zn</th>\n",
       "      <th>indus</th>\n",
       "      <th>chas</th>\n",
       "      <th>nox</th>\n",
       "      <th>rm</th>\n",
       "      <th>age</th>\n",
       "      <th>dis</th>\n",
       "      <th>rad</th>\n",
       "      <th>tax</th>\n",
       "      <th>ptratio</th>\n",
       "      <th>b</th>\n",
       "      <th>lstat</th>\n",
       "      <th>medv</th>\n",
       "    </tr>\n",
       "  </thead>\n",
       "  <tbody>\n",
       "    <tr>\n",
       "      <th>0</th>\n",
       "      <td>0.00632</td>\n",
       "      <td>18.0</td>\n",
       "      <td>2.31</td>\n",
       "      <td>0</td>\n",
       "      <td>0.538</td>\n",
       "      <td>6.575</td>\n",
       "      <td>65.2</td>\n",
       "      <td>4.0900</td>\n",
       "      <td>1</td>\n",
       "      <td>296</td>\n",
       "      <td>15.3</td>\n",
       "      <td>396.90</td>\n",
       "      <td>4.98</td>\n",
       "      <td>24.0</td>\n",
       "    </tr>\n",
       "    <tr>\n",
       "      <th>1</th>\n",
       "      <td>0.02731</td>\n",
       "      <td>0.0</td>\n",
       "      <td>7.07</td>\n",
       "      <td>0</td>\n",
       "      <td>0.469</td>\n",
       "      <td>6.421</td>\n",
       "      <td>78.9</td>\n",
       "      <td>4.9671</td>\n",
       "      <td>2</td>\n",
       "      <td>242</td>\n",
       "      <td>17.8</td>\n",
       "      <td>396.90</td>\n",
       "      <td>9.14</td>\n",
       "      <td>21.6</td>\n",
       "    </tr>\n",
       "    <tr>\n",
       "      <th>2</th>\n",
       "      <td>0.02729</td>\n",
       "      <td>0.0</td>\n",
       "      <td>7.07</td>\n",
       "      <td>0</td>\n",
       "      <td>0.469</td>\n",
       "      <td>7.185</td>\n",
       "      <td>61.1</td>\n",
       "      <td>4.9671</td>\n",
       "      <td>2</td>\n",
       "      <td>242</td>\n",
       "      <td>17.8</td>\n",
       "      <td>392.83</td>\n",
       "      <td>4.03</td>\n",
       "      <td>34.7</td>\n",
       "    </tr>\n",
       "    <tr>\n",
       "      <th>3</th>\n",
       "      <td>0.03237</td>\n",
       "      <td>0.0</td>\n",
       "      <td>2.18</td>\n",
       "      <td>0</td>\n",
       "      <td>0.458</td>\n",
       "      <td>6.998</td>\n",
       "      <td>45.8</td>\n",
       "      <td>6.0622</td>\n",
       "      <td>3</td>\n",
       "      <td>222</td>\n",
       "      <td>18.7</td>\n",
       "      <td>394.63</td>\n",
       "      <td>2.94</td>\n",
       "      <td>33.4</td>\n",
       "    </tr>\n",
       "    <tr>\n",
       "      <th>4</th>\n",
       "      <td>0.06905</td>\n",
       "      <td>0.0</td>\n",
       "      <td>2.18</td>\n",
       "      <td>0</td>\n",
       "      <td>0.458</td>\n",
       "      <td>7.147</td>\n",
       "      <td>54.2</td>\n",
       "      <td>6.0622</td>\n",
       "      <td>3</td>\n",
       "      <td>222</td>\n",
       "      <td>18.7</td>\n",
       "      <td>396.90</td>\n",
       "      <td>5.33</td>\n",
       "      <td>36.2</td>\n",
       "    </tr>\n",
       "  </tbody>\n",
       "</table>\n",
       "</div>"
      ],
      "text/plain": [
       "      crim    zn  indus  chas    nox     rm   age     dis  rad  tax  ptratio  \\\n",
       "0  0.00632  18.0   2.31     0  0.538  6.575  65.2  4.0900    1  296     15.3   \n",
       "1  0.02731   0.0   7.07     0  0.469  6.421  78.9  4.9671    2  242     17.8   \n",
       "2  0.02729   0.0   7.07     0  0.469  7.185  61.1  4.9671    2  242     17.8   \n",
       "3  0.03237   0.0   2.18     0  0.458  6.998  45.8  6.0622    3  222     18.7   \n",
       "4  0.06905   0.0   2.18     0  0.458  7.147  54.2  6.0622    3  222     18.7   \n",
       "\n",
       "        b  lstat  medv  \n",
       "0  396.90   4.98  24.0  \n",
       "1  396.90   9.14  21.6  \n",
       "2  392.83   4.03  34.7  \n",
       "3  394.63   2.94  33.4  \n",
       "4  396.90   5.33  36.2  "
      ]
     },
     "execution_count": 227,
     "metadata": {},
     "output_type": "execute_result"
    }
   ],
   "source": [
    "### The reader object allows iteration, much like a regular file object does. This allows for iteration over each row \n",
    "### in the reader object and the print out of the line of data, minus the commas. This works because each row is a list\n",
    "### and we can join each element in the list together, forming one long string.[6]\n",
    "### This is done for the complete dataset.\n",
    "### df = pd.read_csv(\"bostonhousing.csv\") creates the data frame for the data set.\n",
    "### The df.head() function gives us the first five lines of the data set.\n",
    "\n",
    "csv_a=csv.reader(a)\n",
    "df = pd.read_csv(\"bostonhousing.csv\")\n",
    "df.head()\n"
   ]
  },
  {
   "cell_type": "markdown",
   "metadata": {},
   "source": [
    "I want to check to see if there are any NA in the dataset. I need a clean dataset otherwise it will effect some of code I have below. i.e. m.fit will show a loss of nan if there is/are NA in the dataset. I will do this by running df.insnull().any. (2)"
   ]
  },
  {
   "cell_type": "code",
   "execution_count": 228,
   "metadata": {},
   "outputs": [
    {
     "data": {
      "text/plain": [
       "crim       False\n",
       "zn         False\n",
       "indus      False\n",
       "chas       False\n",
       "nox        False\n",
       "rm         False\n",
       "age        False\n",
       "dis        False\n",
       "rad        False\n",
       "tax        False\n",
       "ptratio    False\n",
       "b          False\n",
       "lstat      False\n",
       "medv       False\n",
       "dtype: bool"
      ]
     },
     "execution_count": 228,
     "metadata": {},
     "output_type": "execute_result"
    }
   ],
   "source": [
    "nl = df.isnull().any()\n",
    "nl"
   ]
  },
  {
   "cell_type": "markdown",
   "metadata": {},
   "source": [
    "Since all Falses were returned, it means the dataset is void of any NAs. We are good to proceed."
   ]
  },
  {
   "cell_type": "markdown",
   "metadata": {},
   "source": [
    "Since both the assessment questions relate to the median price of the houses, I will use some plots to get a good visualization of the median house prices. The first plot will be the distribution plot of the median house value.\n",
    "The way I will do this is to use a distibution plot using the seaborn library."
   ]
  },
  {
   "cell_type": "code",
   "execution_count": 229,
   "metadata": {
    "scrolled": true
   },
   "outputs": [
    {
     "data": {
      "image/png": "[encoded data removed]",
      "text/plain": [
       "<Figure size 1080x360 with 1 Axes>"
      ]
     },
     "metadata": {},
     "output_type": "display_data"
    }
   ],
   "source": [
    "sns.set(rc={'figure.figsize':(15.0,5.0)})\n",
    "sns.distplot(df['medv'])\n",
    "plt.show()"
   ]
  },
  {
   "cell_type": "markdown",
   "metadata": {},
   "source": [
    "The distribution is fairly normal with a few outliers. It also shows that a good amount of houses' median values are in the 19,000 to 25,000 range.<br>\n",
    "To get a better visualization of the data, I'll plot the frequency by median value (medv) using a basic histogram plot."
   ]
  },
  {
   "cell_type": "code",
   "execution_count": 230,
   "metadata": {
    "scrolled": true
   },
   "outputs": [
    {
     "data": {
      "text/plain": [
       "<matplotlib.axes._subplots.AxesSubplot at 0x1db6d16e4e0>"
      ]
     },
     "execution_count": 230,
     "metadata": {},
     "output_type": "execute_result"
    },
    {
     "data": {
      "image/png": "[encoded data removed]",
      "text/plain": [
       "<Figure size 1080x360 with 1 Axes>"
      ]
     },
     "metadata": {},
     "output_type": "display_data"
    }
   ],
   "source": [
    "plt.rcParams['figure.figsize'] = (15.0, 5.0)\n",
    "df['medv'].hist()"
   ]
  },
  {
   "cell_type": "markdown",
   "metadata": {},
   "source": [
    "Again this just supports the distribution plot in showing a fairly normal distribution and also gives a good overall visualization to the median value of house prices in Boston based on the dataset."
   ]
  },
  {
   "cell_type": "markdown",
   "metadata": {},
   "source": [
    "The plots are nice and give a good idea of the median house price but I'm a numbers gut. I also want to see some basic stats like maximum price, minimum price and mean price. This will give me a good idea of the numerical values related to the dataset. To do this, I'll just run a describe on the MEDV column.\n"
   ]
  },
  {
   "cell_type": "code",
   "execution_count": 231,
   "metadata": {},
   "outputs": [
    {
     "data": {
      "text/plain": [
       "count    506.000000\n",
       "mean      22.532806\n",
       "std        9.197104\n",
       "min        5.000000\n",
       "25%       17.025000\n",
       "50%       21.200000\n",
       "75%       25.000000\n",
       "max       50.000000\n",
       "Name: medv, dtype: float64"
      ]
     },
     "execution_count": 231,
     "metadata": {},
     "output_type": "execute_result"
    }
   ],
   "source": [
    "df['medv'].describe()"
   ]
  },
  {
   "cell_type": "markdown",
   "metadata": {},
   "source": [
    "So we see that the max value is 50.0 and the min value is 5.0 with a mean of 22.532. \n",
    "***"
   ]
  },
  {
   "cell_type": "markdown",
   "metadata": {},
   "source": [
    "### SECTION 2. MEDIAN HOUSE PRICE DIFFERENCE"
   ]
  },
  {
   "cell_type": "markdown",
   "metadata": {},
   "source": [
    "I will use inferential statistics to analyse whether there is a significant difference in the median house prices\n",
    "that are along the Charles River verse those that aren't. More specifically, I will use a t-test.\n",
    "\"A t-test is a parametric test which tells you how significant the differences between group sare;In other words, \n",
    "it lets you know if those differences(measured in means/averages) could have happened by chance.\" (3)<br>\n",
    "Before we run the t-test, I need to calculate the median values of the houses along the Charles River and the houses not along the Charles River."
   ]
  },
  {
   "cell_type": "markdown",
   "metadata": {},
   "source": [
    "You'll notice in the dataset, that the CHAS column is filled with either a 0 or a 1. 0 means that the house is not on the Charles River and 1 means that it is on the Charles River. This is important because this will help us to answer our first question, is the median value of a house along the Charles River more than one that is not? Below I will separate the the 0 and 1 by calling them o and n respectively and then determining there median values as well as their count."
   ]
  },
  {
   "cell_type": "code",
   "execution_count": 232,
   "metadata": {},
   "outputs": [],
   "source": [
    "o = df[df['chas'] == 1.0]\n",
    "n = df[df['chas'] == 0.0]"
   ]
  },
  {
   "cell_type": "code",
   "execution_count": 233,
   "metadata": {},
   "outputs": [
    {
     "name": "stdout",
     "output_type": "stream",
     "text": [
      "The number of houses on the Charles River is: 35\n",
      "----------------\n",
      "The number of houses NOT on the Charles River is: 471\n",
      "----------------\n",
      "The mean price for a house on the Charles River is: 28.44\n",
      "----------------\n",
      "The mean price for a house NOT on the Charles River is: 22.093842887473482\n"
     ]
    }
   ],
   "source": [
    "# calculate the number in each category and then calculate means of those categories.\n",
    "nA = len(o)\n",
    "nB = len(n)\n",
    "print('The number of houses on the Charles River is:',(nA))\n",
    "print('----------------')\n",
    "print('The number of houses NOT on the Charles River is:',(nB))\n",
    "print('----------------')\n",
    "mo = np.mean(o.medv)\n",
    "mn = np.mean(n.medv)\n",
    "print('The mean price for a house on the Charles River is:',(mo))\n",
    "\n",
    "print('----------------')\n",
    "print('The mean price for a house NOT on the Charles River is:',(mn))\n",
    "\n",
    "\n"
   ]
  },
  {
   "cell_type": "markdown",
   "metadata": {},
   "source": [
    "### t test"
   ]
  },
  {
   "cell_type": "markdown",
   "metadata": {},
   "source": [
    "To find out if there is a difference between the median value of a house on the Charles river and a house not along the Charles River, I will use a t-test.\n",
    "A t-test will test the null hypotheses. the null hypothesis in medain value is whether the median value of a house along the Charles River is EQUAL to a house not along the Charles River. An important note to make is that the data in the Boston Housing dataset is just a small sample of the population of houses in Boston. The t-test will provide a result based on the population."
   ]
  },
  {
   "cell_type": "code",
   "execution_count": 234,
   "metadata": {},
   "outputs": [
    {
     "name": "stdout",
     "output_type": "stream",
     "text": [
      "Ttest_indResult(statistic=3.996437466090509, pvalue=7.390623170519905e-05)\n"
     ]
    }
   ],
   "source": [
    "print(stats.ttest_ind(o['medv'], n['medv']))"
   ]
  },
  {
   "cell_type": "markdown",
   "metadata": {},
   "source": [
    "Based on the pvalue, where P < .001, in the results of the t-test, we would reject the null hypothesis. This basically says that the means of the the two populations are different.\n",
    "***"
   ]
  },
  {
   "cell_type": "markdown",
   "metadata": {},
   "source": [
    "### SECTION 3. PREDICTING THE MEDIAN HOUSE PRICE"
   ]
  },
  {
   "cell_type": "markdown",
   "metadata": {},
   "source": [
    "These are the steps I will take in building my prediction model:\n",
    " 1. Scale the data.<br>\n",
    " 2. Build the model utilizing a neural network and adding layers.<br>\n",
    " 3. Split the dataset into training and test groups.<br>\n",
    " 4. Train the neural network model.<br>\n",
    " 5. Predict the median house value.<br>\n",
    " 6. Evaluate the results.<br>\n",
    " <br>\n",
    "I will use these steps to build a model to predict the medv while using all the other variables and also use the medv to predict the medv using just three variables."
   ]
  },
  {
   "cell_type": "markdown",
   "metadata": {},
   "source": [
    "\n",
    "### ALL VARIABLES"
   ]
  },
  {
   "cell_type": "markdown",
   "metadata": {},
   "source": [
    "#### SCALE DATASET"
   ]
  },
  {
   "cell_type": "markdown",
   "metadata": {},
   "source": [
    "I want to scale the dataset. I do this because some numbers in the dataset are in thousands, some are from 0 to 2 or 1 to 10. This makes it difficult for the initialization of the neural network. using the scale feature ensures that the input features have similar orders of magnitude. (4)"
   ]
  },
  {
   "cell_type": "code",
   "execution_count": 235,
   "metadata": {},
   "outputs": [],
   "source": [
    "# https://scikit-learn.org/stable/modules/preprocessing.html#preprocessing per Ian McLoughlin github page (5)\n",
    "xscale = pd.DataFrame(pre.scale(df), columns=df.columns)\n"
   ]
  },
  {
   "cell_type": "markdown",
   "metadata": {},
   "source": [
    "#### BUILD MODEL"
   ]
  },
  {
   "cell_type": "code",
   "execution_count": 468,
   "metadata": {},
   "outputs": [],
   "source": [
    "# create a neural network\n",
    "m = kr.models.Sequential()\n",
    "\n",
    "# add neurons\n",
    "m.add(kr.layers.Dense(100, input_dim=13, kernel_initializer='normal', activation='relu'))\n",
    "m.add(kr.layers.Dense(100, activation=\"relu\"))\n",
    "m.add(kr.layers.Dense(100, activation=\"relu\"))\n",
    "\n",
    "# add layer to output prediction of MEDV, therefore size equals 1.\n",
    "m.add(kr.layers.Dense(1, kernel_initializer='normal'))                     \n",
    "                      \n",
    "# compile the model\n",
    "m.compile(optimizer=\"adam\", loss=\"mean_squared_error\", metrics=['accuracy'])\n"
   ]
  },
  {
   "cell_type": "code",
   "execution_count": 469,
   "metadata": {},
   "outputs": [
    {
     "name": "stdout",
     "output_type": "stream",
     "text": [
      "Model: \"sequential_30\"\n",
      "_________________________________________________________________\n",
      "Layer (type)                 Output Shape              Param #   \n",
      "=================================================================\n",
      "dense_115 (Dense)            (None, 100)               1400      \n",
      "_________________________________________________________________\n",
      "dense_116 (Dense)            (None, 100)               10100     \n",
      "_________________________________________________________________\n",
      "dense_117 (Dense)            (None, 100)               10100     \n",
      "_________________________________________________________________\n",
      "dense_118 (Dense)            (None, 1)                 101       \n",
      "=================================================================\n",
      "Total params: 21,701\n",
      "Trainable params: 21,701\n",
      "Non-trainable params: 0\n",
      "_________________________________________________________________\n"
     ]
    }
   ],
   "source": [
    "#use summary() to show layer, shape and number of parameters in the model\n",
    "m.summary()"
   ]
  },
  {
   "cell_type": "markdown",
   "metadata": {},
   "source": [
    "#### SPLIT DATASET"
   ]
  },
  {
   "cell_type": "markdown",
   "metadata": {},
   "source": [
    "I will split the dataset in two, x and y. y will be the 'medv' I need to predict and x will be all the other variables."
   ]
  },
  {
   "cell_type": "code",
   "execution_count": 470,
   "metadata": {},
   "outputs": [],
   "source": [
    "# use the iloc function to easily include all variable headers except 'medv'.\n",
    "x = df.iloc[:, 0:13]"
   ]
  },
  {
   "cell_type": "code",
   "execution_count": 471,
   "metadata": {},
   "outputs": [],
   "source": [
    "y = df['medv']"
   ]
  },
  {
   "cell_type": "code",
   "execution_count": 472,
   "metadata": {},
   "outputs": [
    {
     "name": "stdout",
     "output_type": "stream",
     "text": [
      "xtrain shape :  (404, 13)\n",
      "xtest shape  :  (102, 13)\n",
      "ytrain shape :  (404,)\n",
      "ytest shape  :  (102,)\n"
     ]
    }
   ],
   "source": [
    "# splitting data to training and testing dataset.  \n",
    "# print data shape\n",
    "xtrain, xtest, ytrain, ytest = train_test_split(x, y, test_size =0.2, random_state = 0) \n",
    "   \n",
    "print(\"xtrain shape : \", xtrain.shape) \n",
    "print(\"xtest shape  : \", xtest.shape) \n",
    "print(\"ytrain shape : \", ytrain.shape) \n",
    "print(\"ytest shape  : \", ytest.shape) "
   ]
  },
  {
   "cell_type": "markdown",
   "metadata": {},
   "source": [
    "#### TRAIN THE MODEL"
   ]
  },
  {
   "cell_type": "code",
   "execution_count": 473,
   "metadata": {},
   "outputs": [
    {
     "name": "stdout",
     "output_type": "stream",
     "text": [
      "Epoch 1/100\n",
      "404/404 [==============================] - 0s 995us/step - loss: 382.5145 - accuracy: 0.0000e+00\n",
      "Epoch 2/100\n",
      "404/404 [==============================] - 0s 86us/step - loss: 100.1438 - accuracy: 0.0050\n",
      "Epoch 3/100\n",
      "404/404 [==============================] - 0s 74us/step - loss: 66.8455 - accuracy: 0.0025\n",
      "Epoch 4/100\n",
      "404/404 [==============================] - 0s 82us/step - loss: 62.7527 - accuracy: 0.0000e+00\n",
      "Epoch 5/100\n",
      "404/404 [==============================] - 0s 81us/step - loss: 56.6978 - accuracy: 0.0000e+00\n",
      "Epoch 6/100\n",
      "404/404 [==============================] - 0s 84us/step - loss: 54.5551 - accuracy: 0.0050\n",
      "Epoch 7/100\n",
      "404/404 [==============================] - 0s 74us/step - loss: 54.4202 - accuracy: 0.0074\n",
      "Epoch 8/100\n",
      "404/404 [==============================] - 0s 74us/step - loss: 53.7853 - accuracy: 0.0025\n",
      "Epoch 9/100\n",
      "404/404 [==============================] - 0s 86us/step - loss: 50.6021 - accuracy: 0.0124\n",
      "Epoch 10/100\n",
      "404/404 [==============================] - 0s 94us/step - loss: 49.8718 - accuracy: 0.0074\n",
      "Epoch 11/100\n",
      "404/404 [==============================] - 0s 69us/step - loss: 47.7932 - accuracy: 0.0099\n",
      "Epoch 12/100\n",
      "404/404 [==============================] - 0s 74us/step - loss: 46.5484 - accuracy: 0.0050\n",
      "Epoch 13/100\n",
      "404/404 [==============================] - 0s 67us/step - loss: 44.5333 - accuracy: 0.0074\n",
      "Epoch 14/100\n",
      "404/404 [==============================] - 0s 77us/step - loss: 42.5385 - accuracy: 0.0099\n",
      "Epoch 15/100\n",
      "404/404 [==============================] - 0s 77us/step - loss: 41.9154 - accuracy: 0.0050\n",
      "Epoch 16/100\n",
      "404/404 [==============================] - 0s 72us/step - loss: 43.3970 - accuracy: 0.0025\n",
      "Epoch 17/100\n",
      "404/404 [==============================] - 0s 91us/step - loss: 38.4603 - accuracy: 0.0025\n",
      "Epoch 18/100\n",
      "404/404 [==============================] - 0s 81us/step - loss: 35.8880 - accuracy: 0.0050\n",
      "Epoch 19/100\n",
      "404/404 [==============================] - 0s 84us/step - loss: 34.4296 - accuracy: 0.0074\n",
      "Epoch 20/100\n",
      "404/404 [==============================] - 0s 77us/step - loss: 33.3454 - accuracy: 0.0173\n",
      "Epoch 21/100\n",
      "404/404 [==============================] - 0s 81us/step - loss: 35.4196 - accuracy: 0.0099\n",
      "Epoch 22/100\n",
      "404/404 [==============================] - 0s 131us/step - loss: 32.3762 - accuracy: 0.0099\n",
      "Epoch 23/100\n",
      "404/404 [==============================] - 0s 93us/step - loss: 32.5465 - accuracy: 0.0124\n",
      "Epoch 24/100\n",
      "404/404 [==============================] - 0s 123us/step - loss: 34.0638 - accuracy: 0.0025\n",
      "Epoch 25/100\n",
      "404/404 [==============================] - 0s 116us/step - loss: 42.5451 - accuracy: 0.0074\n",
      "Epoch 26/100\n",
      "404/404 [==============================] - 0s 84us/step - loss: 30.4801 - accuracy: 0.0099\n",
      "Epoch 27/100\n",
      "404/404 [==============================] - 0s 77us/step - loss: 29.7161 - accuracy: 0.0173\n",
      "Epoch 28/100\n",
      "404/404 [==============================] - 0s 79us/step - loss: 28.5288 - accuracy: 0.0173\n",
      "Epoch 29/100\n",
      "404/404 [==============================] - 0s 96us/step - loss: 25.9423 - accuracy: 0.0149\n",
      "Epoch 30/100\n",
      "404/404 [==============================] - 0s 86us/step - loss: 27.5079 - accuracy: 0.0124\n",
      "Epoch 31/100\n",
      "404/404 [==============================] - 0s 86us/step - loss: 27.1137 - accuracy: 0.0099\n",
      "Epoch 32/100\n",
      "404/404 [==============================] - 0s 81us/step - loss: 25.9546 - accuracy: 0.0149\n",
      "Epoch 33/100\n",
      "404/404 [==============================] - 0s 67us/step - loss: 23.4816 - accuracy: 0.0149\n",
      "Epoch 34/100\n",
      "404/404 [==============================] - 0s 64us/step - loss: 22.1600 - accuracy: 0.0124\n",
      "Epoch 35/100\n",
      "404/404 [==============================] - 0s 77us/step - loss: 23.1281 - accuracy: 0.0124\n",
      "Epoch 36/100\n",
      "404/404 [==============================] - 0s 77us/step - loss: 23.9175 - accuracy: 0.0099\n",
      "Epoch 37/100\n",
      "404/404 [==============================] - 0s 72us/step - loss: 23.3761 - accuracy: 0.0099\n",
      "Epoch 38/100\n",
      "404/404 [==============================] - 0s 79us/step - loss: 21.9460 - accuracy: 0.0099\n",
      "Epoch 39/100\n",
      "404/404 [==============================] - 0s 71us/step - loss: 20.0246 - accuracy: 0.0124\n",
      "Epoch 40/100\n",
      "404/404 [==============================] - 0s 72us/step - loss: 25.1951 - accuracy: 0.0124\n",
      "Epoch 41/100\n",
      "404/404 [==============================] - 0s 67us/step - loss: 21.1323 - accuracy: 0.0223\n",
      "Epoch 42/100\n",
      "404/404 [==============================] - 0s 77us/step - loss: 21.3812 - accuracy: 0.0149\n",
      "Epoch 43/100\n",
      "404/404 [==============================] - 0s 67us/step - loss: 21.7170 - accuracy: 0.0124\n",
      "Epoch 44/100\n",
      "404/404 [==============================] - 0s 67us/step - loss: 20.5123 - accuracy: 0.0173\n",
      "Epoch 45/100\n",
      "404/404 [==============================] - 0s 77us/step - loss: 18.6351 - accuracy: 0.0074\n",
      "Epoch 46/100\n",
      "404/404 [==============================] - 0s 72us/step - loss: 18.6130 - accuracy: 0.0050\n",
      "Epoch 47/100\n",
      "404/404 [==============================] - 0s 74us/step - loss: 19.8272 - accuracy: 0.0124\n",
      "Epoch 48/100\n",
      "404/404 [==============================] - 0s 86us/step - loss: 20.8755 - accuracy: 0.0149\n",
      "Epoch 49/100\n",
      "404/404 [==============================] - 0s 64us/step - loss: 18.1925 - accuracy: 0.0149\n",
      "Epoch 50/100\n",
      "404/404 [==============================] - 0s 104us/step - loss: 17.5071 - accuracy: 0.0074\n",
      "Epoch 51/100\n",
      "404/404 [==============================] - 0s 109us/step - loss: 18.8279 - accuracy: 0.0099\n",
      "Epoch 52/100\n",
      "404/404 [==============================] - 0s 116us/step - loss: 20.5360 - accuracy: 0.0198\n",
      "Epoch 53/100\n",
      "404/404 [==============================] - 0s 99us/step - loss: 18.1930 - accuracy: 0.0099\n",
      "Epoch 54/100\n",
      "404/404 [==============================] - 0s 79us/step - loss: 17.2060 - accuracy: 0.0074\n",
      "Epoch 55/100\n",
      "404/404 [==============================] - 0s 91us/step - loss: 16.8883 - accuracy: 0.0099\n",
      "Epoch 56/100\n",
      "404/404 [==============================] - 0s 77us/step - loss: 16.6775 - accuracy: 0.0099\n",
      "Epoch 57/100\n",
      "404/404 [==============================] - 0s 99us/step - loss: 18.2540 - accuracy: 0.0124\n",
      "Epoch 58/100\n",
      "404/404 [==============================] - 0s 84us/step - loss: 17.2143 - accuracy: 0.0124\n",
      "Epoch 59/100\n",
      "404/404 [==============================] - 0s 86us/step - loss: 14.9584 - accuracy: 0.0124\n",
      "Epoch 60/100\n",
      "404/404 [==============================] - 0s 81us/step - loss: 15.8377 - accuracy: 0.0124\n",
      "Epoch 61/100\n",
      "404/404 [==============================] - 0s 72us/step - loss: 17.3629 - accuracy: 0.0099\n",
      "Epoch 62/100\n",
      "404/404 [==============================] - 0s 77us/step - loss: 17.1897 - accuracy: 0.0149\n",
      "Epoch 63/100\n",
      "404/404 [==============================] - 0s 79us/step - loss: 15.4447 - accuracy: 0.0124\n",
      "Epoch 64/100\n",
      "404/404 [==============================] - 0s 77us/step - loss: 15.3353 - accuracy: 0.0149\n",
      "Epoch 65/100\n",
      "404/404 [==============================] - 0s 74us/step - loss: 14.9730 - accuracy: 0.0074\n",
      "Epoch 66/100\n",
      "404/404 [==============================] - 0s 72us/step - loss: 14.5742 - accuracy: 0.0074\n",
      "Epoch 67/100\n",
      "404/404 [==============================] - 0s 62us/step - loss: 14.7559 - accuracy: 0.0124\n",
      "Epoch 68/100\n",
      "404/404 [==============================] - 0s 67us/step - loss: 14.0242 - accuracy: 0.0124\n",
      "Epoch 69/100\n",
      "404/404 [==============================] - 0s 72us/step - loss: 15.6835 - accuracy: 0.0099\n",
      "Epoch 70/100\n",
      "404/404 [==============================] - 0s 77us/step - loss: 16.4440 - accuracy: 0.0124\n",
      "Epoch 71/100\n",
      "404/404 [==============================] - 0s 72us/step - loss: 14.8477 - accuracy: 0.0124\n",
      "Epoch 72/100\n",
      "404/404 [==============================] - 0s 72us/step - loss: 13.8512 - accuracy: 0.0124\n",
      "Epoch 73/100\n",
      "404/404 [==============================] - 0s 67us/step - loss: 15.4450 - accuracy: 0.0198\n",
      "Epoch 74/100\n",
      "404/404 [==============================] - 0s 72us/step - loss: 16.8693 - accuracy: 0.0149\n",
      "Epoch 75/100\n",
      "404/404 [==============================] - 0s 72us/step - loss: 16.8579 - accuracy: 0.0124\n",
      "Epoch 76/100\n",
      "404/404 [==============================] - 0s 74us/step - loss: 15.2180 - accuracy: 0.0099\n",
      "Epoch 77/100\n",
      "404/404 [==============================] - 0s 74us/step - loss: 16.5616 - accuracy: 0.0198\n",
      "Epoch 78/100\n",
      "404/404 [==============================] - 0s 106us/step - loss: 13.9082 - accuracy: 0.0074\n",
      "Epoch 79/100\n"
     ]
    },
    {
     "name": "stdout",
     "output_type": "stream",
     "text": [
      "404/404 [==============================] - 0s 104us/step - loss: 14.1831 - accuracy: 0.0223\n",
      "Epoch 80/100\n",
      "404/404 [==============================] - 0s 94us/step - loss: 14.5817 - accuracy: 0.0050\n",
      "Epoch 81/100\n",
      "404/404 [==============================] - 0s 74us/step - loss: 14.0469 - accuracy: 0.0050\n",
      "Epoch 82/100\n",
      "404/404 [==============================] - 0s 79us/step - loss: 13.3479 - accuracy: 0.0124\n",
      "Epoch 83/100\n",
      "404/404 [==============================] - 0s 69us/step - loss: 14.7516 - accuracy: 0.0074\n",
      "Epoch 84/100\n",
      "404/404 [==============================] - 0s 72us/step - loss: 14.9468 - accuracy: 0.0124\n",
      "Epoch 85/100\n",
      "404/404 [==============================] - 0s 72us/step - loss: 17.2891 - accuracy: 0.0124\n",
      "Epoch 86/100\n",
      "404/404 [==============================] - 0s 79us/step - loss: 14.4530 - accuracy: 0.0050\n",
      "Epoch 87/100\n",
      "404/404 [==============================] - 0s 69us/step - loss: 16.5392 - accuracy: 0.0124\n",
      "Epoch 88/100\n",
      "404/404 [==============================] - 0s 67us/step - loss: 15.9390 - accuracy: 0.0124\n",
      "Epoch 89/100\n",
      "404/404 [==============================] - 0s 59us/step - loss: 16.7653 - accuracy: 0.0173\n",
      "Epoch 90/100\n",
      "404/404 [==============================] - 0s 57us/step - loss: 23.5513 - accuracy: 0.0149\n",
      "Epoch 91/100\n",
      "404/404 [==============================] - 0s 59us/step - loss: 20.1731 - accuracy: 0.0124\n",
      "Epoch 92/100\n",
      "404/404 [==============================] - 0s 59us/step - loss: 13.3365 - accuracy: 0.0050\n",
      "Epoch 93/100\n",
      "404/404 [==============================] - 0s 54us/step - loss: 14.4560 - accuracy: 0.0149\n",
      "Epoch 94/100\n",
      "404/404 [==============================] - 0s 59us/step - loss: 12.7284 - accuracy: 0.0124\n",
      "Epoch 95/100\n",
      "404/404 [==============================] - 0s 57us/step - loss: 12.9914 - accuracy: 0.0173\n",
      "Epoch 96/100\n",
      "404/404 [==============================] - 0s 59us/step - loss: 15.4169 - accuracy: 0.0124\n",
      "Epoch 97/100\n",
      "404/404 [==============================] - 0s 59us/step - loss: 14.7074 - accuracy: 0.0198\n",
      "Epoch 98/100\n",
      "404/404 [==============================] - 0s 79us/step - loss: 17.6712 - accuracy: 0.0124\n",
      "Epoch 99/100\n",
      "404/404 [==============================] - 0s 79us/step - loss: 13.3914 - accuracy: 0.0173\n",
      "Epoch 100/100\n",
      "404/404 [==============================] - 0s 72us/step - loss: 11.5817 - accuracy: 0.0074\n"
     ]
    },
    {
     "data": {
      "text/plain": [
       "<keras.callbacks.callbacks.History at 0x1db7b9e3eb8>"
      ]
     },
     "execution_count": 473,
     "metadata": {},
     "output_type": "execute_result"
    }
   ],
   "source": [
    "# train the model\n",
    "# add 'early stopping' function. The more epochs means the more time it will take to run the model. If the model stops \n",
    "# improving as it runs through the epochs, 'early stopping' will stop the model.\n",
    "# https://towardsdatascience.com/building-a-deep-learning-model-using-keras-1548ca149d37 (8)\n",
    "\n",
    "early_stopping_monitor = EarlyStopping(patience=3)\n",
    "\n",
    "#train model\n",
    "\n",
    "hist = m.fit(xtrain, ytrain, epochs=100, callbacks=[early_stopping_monitor])\n",
    "hist\n"
   ]
  },
  {
   "cell_type": "markdown",
   "metadata": {},
   "source": [
    "#### PREDICT MEDIAN HOUSE VALUE"
   ]
  },
  {
   "cell_type": "code",
   "execution_count": 474,
   "metadata": {},
   "outputs": [
    {
     "data": {
      "text/plain": [
       "array([[22, 22, 22, 10, 18, 21, 19, 22, 17, 13,  7, 10, 14,  9, 48, 26,\n",
       "        20, 34, 29, 22]])"
      ]
     },
     "execution_count": 474,
     "metadata": {},
     "output_type": "execute_result"
    }
   ],
   "source": [
    "# m.predict(xtest) and print values\n",
    "p = m.predict(xtest)[0:20].astype(int).T\n",
    "p\n"
   ]
  },
  {
   "cell_type": "code",
   "execution_count": 475,
   "metadata": {},
   "outputs": [
    {
     "name": "stderr",
     "output_type": "stream",
     "text": [
      "C:\\Users\\patri\\Anaconda3\\lib\\site-packages\\ipykernel_launcher.py:4: FutureWarning: Method .as_matrix will be removed in a future version. Use .values instead.\n",
      "  after removing the cwd from sys.path.\n"
     ]
    },
    {
     "data": {
      "text/plain": [
       "array([22, 50, 23,  8, 21, 19, 20, 18, 16, 18,  8, 17, 14, 10, 50, 29, 23,\n",
       "       33, 29, 21])"
      ]
     },
     "execution_count": 475,
     "metadata": {},
     "output_type": "execute_result"
    }
   ],
   "source": [
    "# compare predicted values to actual values \n",
    "# https://web.microsoftstream.com/video/14ffd8b4-9601-4098-b406-95c33105635f (9)\n",
    "\n",
    "yt = ytest.as_matrix()[0:20].astype(int) \n",
    " \n",
    "yt"
   ]
  },
  {
   "cell_type": "markdown",
   "metadata": {},
   "source": [
    "#### ACTUAL vs PREDICTION"
   ]
  },
  {
   "cell_type": "code",
   "execution_count": 476,
   "metadata": {},
   "outputs": [
    {
     "data": {
      "text/html": [
       "<div>\n",
       "<style scoped>\n",
       "    .dataframe tbody tr th:only-of-type {\n",
       "        vertical-align: middle;\n",
       "    }\n",
       "\n",
       "    .dataframe tbody tr th {\n",
       "        vertical-align: top;\n",
       "    }\n",
       "\n",
       "    .dataframe thead th {\n",
       "        text-align: right;\n",
       "    }\n",
       "</style>\n",
       "<table border=\"1\" class=\"dataframe\">\n",
       "  <thead>\n",
       "    <tr style=\"text-align: right;\">\n",
       "      <th></th>\n",
       "      <th>Actual</th>\n",
       "      <th>Predicted</th>\n",
       "      <th>Diff</th>\n",
       "    </tr>\n",
       "  </thead>\n",
       "  <tbody>\n",
       "    <tr>\n",
       "      <th>0</th>\n",
       "      <td>22</td>\n",
       "      <td>26</td>\n",
       "      <td>-4</td>\n",
       "    </tr>\n",
       "    <tr>\n",
       "      <th>1</th>\n",
       "      <td>50</td>\n",
       "      <td>24</td>\n",
       "      <td>26</td>\n",
       "    </tr>\n",
       "    <tr>\n",
       "      <th>2</th>\n",
       "      <td>23</td>\n",
       "      <td>24</td>\n",
       "      <td>-1</td>\n",
       "    </tr>\n",
       "    <tr>\n",
       "      <th>3</th>\n",
       "      <td>8</td>\n",
       "      <td>10</td>\n",
       "      <td>-2</td>\n",
       "    </tr>\n",
       "    <tr>\n",
       "      <th>4</th>\n",
       "      <td>21</td>\n",
       "      <td>19</td>\n",
       "      <td>2</td>\n",
       "    </tr>\n",
       "    <tr>\n",
       "      <th>5</th>\n",
       "      <td>19</td>\n",
       "      <td>21</td>\n",
       "      <td>-2</td>\n",
       "    </tr>\n",
       "    <tr>\n",
       "      <th>6</th>\n",
       "      <td>20</td>\n",
       "      <td>21</td>\n",
       "      <td>-1</td>\n",
       "    </tr>\n",
       "    <tr>\n",
       "      <th>7</th>\n",
       "      <td>18</td>\n",
       "      <td>24</td>\n",
       "      <td>-6</td>\n",
       "    </tr>\n",
       "    <tr>\n",
       "      <th>8</th>\n",
       "      <td>16</td>\n",
       "      <td>18</td>\n",
       "      <td>-2</td>\n",
       "    </tr>\n",
       "    <tr>\n",
       "      <th>9</th>\n",
       "      <td>18</td>\n",
       "      <td>14</td>\n",
       "      <td>4</td>\n",
       "    </tr>\n",
       "    <tr>\n",
       "      <th>10</th>\n",
       "      <td>8</td>\n",
       "      <td>6</td>\n",
       "      <td>2</td>\n",
       "    </tr>\n",
       "    <tr>\n",
       "      <th>11</th>\n",
       "      <td>17</td>\n",
       "      <td>10</td>\n",
       "      <td>7</td>\n",
       "    </tr>\n",
       "    <tr>\n",
       "      <th>12</th>\n",
       "      <td>14</td>\n",
       "      <td>15</td>\n",
       "      <td>-1</td>\n",
       "    </tr>\n",
       "    <tr>\n",
       "      <th>13</th>\n",
       "      <td>10</td>\n",
       "      <td>8</td>\n",
       "      <td>2</td>\n",
       "    </tr>\n",
       "    <tr>\n",
       "      <th>14</th>\n",
       "      <td>50</td>\n",
       "      <td>53</td>\n",
       "      <td>-3</td>\n",
       "    </tr>\n",
       "    <tr>\n",
       "      <th>15</th>\n",
       "      <td>29</td>\n",
       "      <td>30</td>\n",
       "      <td>-1</td>\n",
       "    </tr>\n",
       "    <tr>\n",
       "      <th>16</th>\n",
       "      <td>23</td>\n",
       "      <td>21</td>\n",
       "      <td>2</td>\n",
       "    </tr>\n",
       "    <tr>\n",
       "      <th>17</th>\n",
       "      <td>33</td>\n",
       "      <td>36</td>\n",
       "      <td>-3</td>\n",
       "    </tr>\n",
       "    <tr>\n",
       "      <th>18</th>\n",
       "      <td>29</td>\n",
       "      <td>33</td>\n",
       "      <td>-4</td>\n",
       "    </tr>\n",
       "    <tr>\n",
       "      <th>19</th>\n",
       "      <td>21</td>\n",
       "      <td>23</td>\n",
       "      <td>-2</td>\n",
       "    </tr>\n",
       "  </tbody>\n",
       "</table>\n",
       "</div>"
      ],
      "text/plain": [
       "    Actual  Predicted  Diff\n",
       "0       22         26    -4\n",
       "1       50         24    26\n",
       "2       23         24    -1\n",
       "3        8         10    -2\n",
       "4       21         19     2\n",
       "5       19         21    -2\n",
       "6       20         21    -1\n",
       "7       18         24    -6\n",
       "8       16         18    -2\n",
       "9       18         14     4\n",
       "10       8          6     2\n",
       "11      17         10     7\n",
       "12      14         15    -1\n",
       "13      10          8     2\n",
       "14      50         53    -3\n",
       "15      29         30    -1\n",
       "16      23         21     2\n",
       "17      33         36    -3\n",
       "18      29         33    -4\n",
       "19      21         23    -2"
      ]
     },
     "execution_count": 476,
     "metadata": {},
     "output_type": "execute_result"
    }
   ],
   "source": [
    "# copy and paste the results of p and yt, where y1 = p and y2 = yt.\n",
    "\n",
    "y1 = [26, 24, 24, 10, 19, 21, 21, 24, 18, 14,  6, 10, 15,  8, 53, 30, 21, 36, 33, 23]\n",
    "y2= [22, 50, 23,  8, 21, 19, 20, 18, 16, 18,  8, 17, 14, 10, 50, 29, 23, 33, 29, 21]\n",
    "\n",
    "\n",
    "# create dataframes to be able to calculate the differnce between our actual house price and our predicted house price.\n",
    "\n",
    "df1 = pd.DataFrame({'Actual':y2, 'Predicted':y1})\n",
    "y3 = df1['Actual'] - df1['Predicted']\n",
    "df2 = pd.DataFrame({'Actual':y2, 'Predicted':y1, 'Diff':y3})\n",
    "df3 = df2.head(20)\n",
    "df3"
   ]
  },
  {
   "cell_type": "markdown",
   "metadata": {},
   "source": [
    "#### ACTUAL vs PREDICTION VISUALIZATION"
   ]
  },
  {
   "cell_type": "markdown",
   "metadata": {},
   "source": [
    "To give the data some visualization, I will create a bar chart showing the Actual vs Prediction results."
   ]
  },
  {
   "cell_type": "code",
   "execution_count": 458,
   "metadata": {},
   "outputs": [],
   "source": [
    "# adjust plot size\n",
    "plt.rcParams['figure.figsize'] = 10, 7.5"
   ]
  },
  {
   "cell_type": "code",
   "execution_count": 459,
   "metadata": {},
   "outputs": [
    {
     "data": {
      "image/png": "[encoded data removed]",
      "text/plain": [
       "<Figure size 720x540 with 1 Axes>"
      ]
     },
     "metadata": {},
     "output_type": "display_data"
    }
   ],
   "source": [
    "df5 = pd.DataFrame({'Actual':y1, 'Predicted':y2})\n",
    "ax = df5.plot.bar(rot=0)"
   ]
  },
  {
   "cell_type": "markdown",
   "metadata": {},
   "source": [
    "#### EVALUATE THE RESULTS"
   ]
  },
  {
   "cell_type": "code",
   "execution_count": 460,
   "metadata": {},
   "outputs": [
    {
     "name": "stdout",
     "output_type": "stream",
     "text": [
      "102/102 [==============================] - 0s 2ms/step\n"
     ]
    },
    {
     "data": {
      "text/plain": [
       "[30.179060150595273, 0.009803921915590763]"
      ]
     },
     "execution_count": 460,
     "metadata": {},
     "output_type": "execute_result"
    }
   ],
   "source": [
    "m.evaluate(xtest, ytest)"
   ]
  },
  {
   "cell_type": "markdown",
   "metadata": {},
   "source": [
    "### 3 VARIABLES"
   ]
  },
  {
   "cell_type": "markdown",
   "metadata": {},
   "source": [
    "#### SCALE DATASET"
   ]
  },
  {
   "cell_type": "code",
   "execution_count": 461,
   "metadata": {},
   "outputs": [],
   "source": [
    "# https://scikit-learn.org/stable/modules/preprocessing.html#preprocessing per Ian McLoughlin github page (5)\n",
    "xscale = pd.DataFrame(pre.scale(df), columns=df.columns)"
   ]
  },
  {
   "cell_type": "markdown",
   "metadata": {},
   "source": [
    "#### BUILD MODEL"
   ]
  },
  {
   "cell_type": "code",
   "execution_count": 462,
   "metadata": {},
   "outputs": [],
   "source": [
    "# create a neural network\n",
    "m = kr.models.Sequential()\n",
    "\n",
    "# add neurons\n",
    "m.add(kr.layers.Dense(99, input_dim=3, kernel_initializer='normal', activation='relu'))\n",
    "m.add(kr.layers.Dense(99, activation=\"relu\"))\n",
    "m.add(kr.layers.Dense(99, activation=\"relu\"))\n",
    "\n",
    "# add layer to output prediction of MEDV, therefore size equals 1.\n",
    "m.add(kr.layers.Dense(1, kernel_initializer='normal'))                     \n",
    "                      \n",
    "# compile the model\n",
    "m.compile(optimizer=\"adam\", loss=\"mean_squared_error\", metrics=['accuracy'])"
   ]
  },
  {
   "cell_type": "markdown",
   "metadata": {},
   "source": [
    "#### SPLIT DATASET"
   ]
  },
  {
   "cell_type": "code",
   "execution_count": 464,
   "metadata": {},
   "outputs": [],
   "source": [
    "# use the iloc function to easily include all variable headers except 'medv'.\n",
    "x = df[['rm','ptratio','lstat']]"
   ]
  },
  {
   "cell_type": "code",
   "execution_count": 465,
   "metadata": {},
   "outputs": [],
   "source": [
    "y = df['medv']"
   ]
  },
  {
   "cell_type": "code",
   "execution_count": 463,
   "metadata": {},
   "outputs": [
    {
     "name": "stdout",
     "output_type": "stream",
     "text": [
      "xtrain shape :  (404, 13)\n",
      "xtest shape  :  (102, 13)\n",
      "ytrain shape :  (404,)\n",
      "ytest shape  :  (102,)\n"
     ]
    }
   ],
   "source": [
    "# splitting data to training and testing dataset.  \n",
    "\n",
    "xtrain, xtest, ytrain, ytest = train_test_split(x, y, test_size =0.2, random_state = 0) \n",
    "   \n",
    "print(\"xtrain shape : \", xtrain.shape) \n",
    "print(\"xtest shape  : \", xtest.shape) \n",
    "print(\"ytrain shape : \", ytrain.shape) \n",
    "print(\"ytest shape  : \", ytest.shape) "
   ]
  },
  {
   "cell_type": "markdown",
   "metadata": {},
   "source": [
    "#### TRAIN THE MODEL"
   ]
  },
  {
   "cell_type": "code",
   "execution_count": 467,
   "metadata": {},
   "outputs": [
    {
     "name": "stdout",
     "output_type": "stream",
     "text": [
      "Epoch 1/100\n",
      "404/404 [==============================] - 0s 1ms/step - loss: 553.7816 - accuracy: 0.0000e+00\n",
      "Epoch 2/100\n",
      "404/404 [==============================] - 0s 89us/step - loss: 397.2488 - accuracy: 0.0000e+00\n",
      "Epoch 3/100\n",
      "404/404 [==============================] - 0s 79us/step - loss: 194.8902 - accuracy: 0.0025\n",
      "Epoch 4/100\n",
      "404/404 [==============================] - 0s 79us/step - loss: 153.2650 - accuracy: 0.0025\n",
      "Epoch 5/100\n",
      "404/404 [==============================] - 0s 122us/step - loss: 125.6511 - accuracy: 0.0050\n",
      "Epoch 6/100\n",
      " 32/404 [=>............................] - ETA: 0s - loss: 110.2302 - accuracy: 0.0312"
     ]
    },
    {
     "name": "stderr",
     "output_type": "stream",
     "text": [
      "C:\\Users\\patri\\Anaconda3\\lib\\site-packages\\keras\\callbacks\\callbacks.py:846: RuntimeWarning: Early stopping conditioned on metric `val_loss` which is not available. Available metrics are: loss,accuracy\n",
      "  (self.monitor, ','.join(list(logs.keys()))), RuntimeWarning\n"
     ]
    },
    {
     "name": "stdout",
     "output_type": "stream",
     "text": [
      "404/404 [==============================] - 0s 86us/step - loss: 101.1408 - accuracy: 0.0050\n",
      "Epoch 7/100\n",
      "404/404 [==============================] - 0s 101us/step - loss: 79.4703 - accuracy: 0.0124\n",
      "Epoch 8/100\n",
      "404/404 [==============================] - 0s 89us/step - loss: 61.1270 - accuracy: 0.0099\n",
      "Epoch 9/100\n",
      "404/404 [==============================] - 0s 86us/step - loss: 49.4271 - accuracy: 0.0099\n",
      "Epoch 10/100\n",
      "404/404 [==============================] - 0s 84us/step - loss: 43.0403 - accuracy: 0.0050\n",
      "Epoch 11/100\n",
      "404/404 [==============================] - 0s 93us/step - loss: 40.2094 - accuracy: 0.0025\n",
      "Epoch 12/100\n",
      "404/404 [==============================] - 0s 81us/step - loss: 38.1235 - accuracy: 0.0074\n",
      "Epoch 13/100\n",
      "404/404 [==============================] - 0s 79us/step - loss: 37.2766 - accuracy: 0.0025\n",
      "Epoch 14/100\n",
      "404/404 [==============================] - 0s 80us/step - loss: 35.7654 - accuracy: 0.0050\n",
      "Epoch 15/100\n",
      "404/404 [==============================] - 0s 84us/step - loss: 33.6358 - accuracy: 0.0025\n",
      "Epoch 16/100\n",
      "404/404 [==============================] - 0s 81us/step - loss: 33.1404 - accuracy: 0.0050\n",
      "Epoch 17/100\n",
      "404/404 [==============================] - 0s 86us/step - loss: 32.7503 - accuracy: 0.0050\n",
      "Epoch 18/100\n",
      "404/404 [==============================] - 0s 69us/step - loss: 30.4701 - accuracy: 0.0050\n",
      "Epoch 19/100\n",
      "404/404 [==============================] - 0s 74us/step - loss: 29.9158 - accuracy: 0.0074\n",
      "Epoch 20/100\n",
      "404/404 [==============================] - 0s 78us/step - loss: 28.3588 - accuracy: 0.0124\n",
      "Epoch 21/100\n",
      "404/404 [==============================] - 0s 77us/step - loss: 26.8487 - accuracy: 0.0149\n",
      "Epoch 22/100\n",
      "404/404 [==============================] - 0s 62us/step - loss: 25.8140 - accuracy: 0.0099\n",
      "Epoch 23/100\n",
      "404/404 [==============================] - 0s 74us/step - loss: 24.9570 - accuracy: 0.0124\n",
      "Epoch 24/100\n",
      "404/404 [==============================] - 0s 64us/step - loss: 23.8661 - accuracy: 0.0099\n",
      "Epoch 25/100\n",
      "404/404 [==============================] - 0s 62us/step - loss: 22.8429 - accuracy: 0.0050\n",
      "Epoch 26/100\n",
      "404/404 [==============================] - 0s 84us/step - loss: 22.2186 - accuracy: 0.0124\n",
      "Epoch 27/100\n",
      "404/404 [==============================] - 0s 101us/step - loss: 22.2650 - accuracy: 0.0050\n",
      "Epoch 28/100\n",
      "404/404 [==============================] - 0s 91us/step - loss: 20.9919 - accuracy: 0.0050\n",
      "Epoch 29/100\n",
      "404/404 [==============================] - ETA: 0s - loss: 24.1127 - accuracy: 0.0000e+0 - 0s 101us/step - loss: 20.2226 - accuracy: 0.0149\n",
      "Epoch 30/100\n",
      "404/404 [==============================] - 0s 79us/step - loss: 19.7836 - accuracy: 0.0149\n",
      "Epoch 31/100\n",
      "404/404 [==============================] - 0s 81us/step - loss: 20.6800 - accuracy: 0.0099\n",
      "Epoch 32/100\n",
      "404/404 [==============================] - 0s 86us/step - loss: 20.3240 - accuracy: 0.0050\n",
      "Epoch 33/100\n",
      "404/404 [==============================] - 0s 69us/step - loss: 19.4559 - accuracy: 0.0099\n",
      "Epoch 34/100\n",
      "404/404 [==============================] - 0s 86us/step - loss: 19.4404 - accuracy: 0.0124\n",
      "Epoch 35/100\n",
      "404/404 [==============================] - 0s 121us/step - loss: 18.8073 - accuracy: 0.0074\n",
      "Epoch 36/100\n",
      "404/404 [==============================] - 0s 79us/step - loss: 18.2394 - accuracy: 0.0149\n",
      "Epoch 37/100\n",
      "404/404 [==============================] - 0s 77us/step - loss: 17.9817 - accuracy: 0.0099\n",
      "Epoch 38/100\n",
      "404/404 [==============================] - 0s 80us/step - loss: 18.3168 - accuracy: 0.0173\n",
      "Epoch 39/100\n",
      "404/404 [==============================] - 0s 73us/step - loss: 18.3661 - accuracy: 0.0099\n",
      "Epoch 40/100\n",
      "404/404 [==============================] - 0s 62us/step - loss: 17.6565 - accuracy: 0.0198\n",
      "Epoch 41/100\n",
      "404/404 [==============================] - 0s 74us/step - loss: 17.3713 - accuracy: 0.0099\n",
      "Epoch 42/100\n",
      "404/404 [==============================] - 0s 77us/step - loss: 18.1706 - accuracy: 0.0149\n",
      "Epoch 43/100\n",
      "404/404 [==============================] - 0s 131us/step - loss: 17.3342 - accuracy: 0.0223\n",
      "Epoch 44/100\n",
      "404/404 [==============================] - 0s 64us/step - loss: 17.2313 - accuracy: 0.0124\n",
      "Epoch 45/100\n",
      "404/404 [==============================] - 0s 69us/step - loss: 17.0299 - accuracy: 0.0149\n",
      "Epoch 46/100\n",
      "404/404 [==============================] - 0s 72us/step - loss: 17.1936 - accuracy: 0.0149\n",
      "Epoch 47/100\n",
      "404/404 [==============================] - 0s 62us/step - loss: 17.4571 - accuracy: 0.0149\n",
      "Epoch 48/100\n",
      "404/404 [==============================] - 0s 72us/step - loss: 17.3470 - accuracy: 0.0173\n",
      "Epoch 49/100\n",
      "404/404 [==============================] - 0s 72us/step - loss: 16.9104 - accuracy: 0.0173\n",
      "Epoch 50/100\n",
      "404/404 [==============================] - 0s 79us/step - loss: 17.0196 - accuracy: 0.0099\n",
      "Epoch 51/100\n",
      "404/404 [==============================] - 0s 86us/step - loss: 17.1967 - accuracy: 0.0173\n",
      "Epoch 52/100\n",
      "404/404 [==============================] - 0s 86us/step - loss: 17.0753 - accuracy: 0.0149\n",
      "Epoch 53/100\n",
      "404/404 [==============================] - 0s 81us/step - loss: 16.9696 - accuracy: 0.0173\n",
      "Epoch 54/100\n",
      "404/404 [==============================] - 0s 99us/step - loss: 16.9877 - accuracy: 0.0149\n",
      "Epoch 55/100\n",
      "404/404 [==============================] - 0s 84us/step - loss: 16.6955 - accuracy: 0.0149\n",
      "Epoch 56/100\n",
      "404/404 [==============================] - 0s 79us/step - loss: 16.6089 - accuracy: 0.0124\n",
      "Epoch 57/100\n",
      "404/404 [==============================] - 0s 69us/step - loss: 16.7197 - accuracy: 0.0074\n",
      "Epoch 58/100\n",
      "404/404 [==============================] - 0s 77us/step - loss: 17.4334 - accuracy: 0.0223\n",
      "Epoch 59/100\n",
      "404/404 [==============================] - 0s 89us/step - loss: 17.3244 - accuracy: 0.0124\n",
      "Epoch 60/100\n",
      "404/404 [==============================] - 0s 84us/step - loss: 16.8096 - accuracy: 0.0149\n",
      "Epoch 61/100\n",
      "404/404 [==============================] - 0s 84us/step - loss: 16.6425 - accuracy: 0.0149\n",
      "Epoch 62/100\n",
      "404/404 [==============================] - 0s 67us/step - loss: 16.5035 - accuracy: 0.0124\n",
      "Epoch 63/100\n",
      "404/404 [==============================] - 0s 77us/step - loss: 17.0312 - accuracy: 0.0124\n",
      "Epoch 64/100\n",
      "404/404 [==============================] - 0s 72us/step - loss: 16.4402 - accuracy: 0.0173\n",
      "Epoch 65/100\n",
      "404/404 [==============================] - 0s 57us/step - loss: 16.9896 - accuracy: 0.0198\n",
      "Epoch 66/100\n",
      "404/404 [==============================] - 0s 72us/step - loss: 17.2291 - accuracy: 0.0173\n",
      "Epoch 67/100\n",
      "404/404 [==============================] - 0s 64us/step - loss: 16.6432 - accuracy: 0.0099\n",
      "Epoch 68/100\n",
      "404/404 [==============================] - 0s 69us/step - loss: 16.8862 - accuracy: 0.0124\n",
      "Epoch 69/100\n",
      "404/404 [==============================] - 0s 72us/step - loss: 16.7326 - accuracy: 0.0124\n",
      "Epoch 70/100\n",
      "404/404 [==============================] - 0s 69us/step - loss: 16.6313 - accuracy: 0.0074\n",
      "Epoch 71/100\n",
      "404/404 [==============================] - 0s 57us/step - loss: 16.3869 - accuracy: 0.0149\n",
      "Epoch 72/100\n",
      "404/404 [==============================] - 0s 64us/step - loss: 16.4341 - accuracy: 0.0124\n",
      "Epoch 73/100\n",
      "404/404 [==============================] - 0s 67us/step - loss: 17.3830 - accuracy: 0.0124\n",
      "Epoch 74/100\n",
      "404/404 [==============================] - 0s 64us/step - loss: 18.5461 - accuracy: 0.0198\n",
      "Epoch 75/100\n",
      "404/404 [==============================] - 0s 64us/step - loss: 17.2697 - accuracy: 0.0149\n",
      "Epoch 76/100\n",
      "404/404 [==============================] - 0s 72us/step - loss: 17.2919 - accuracy: 0.0099\n",
      "Epoch 77/100\n",
      "404/404 [==============================] - 0s 72us/step - loss: 16.7298 - accuracy: 0.0173\n",
      "Epoch 78/100\n",
      "404/404 [==============================] - 0s 72us/step - loss: 16.6369 - accuracy: 0.0124\n",
      "Epoch 79/100\n",
      "404/404 [==============================] - 0s 72us/step - loss: 16.5815 - accuracy: 0.0050\n",
      "Epoch 80/100\n",
      "404/404 [==============================] - 0s 69us/step - loss: 16.3923 - accuracy: 0.0223\n",
      "Epoch 81/100\n",
      "404/404 [==============================] - 0s 64us/step - loss: 16.1709 - accuracy: 0.0149\n",
      "Epoch 82/100\n",
      "404/404 [==============================] - 0s 62us/step - loss: 16.4978 - accuracy: 0.0074\n",
      "Epoch 83/100\n",
      "404/404 [==============================] - 0s 64us/step - loss: 16.5370 - accuracy: 0.0223\n",
      "Epoch 84/100\n"
     ]
    },
    {
     "name": "stdout",
     "output_type": "stream",
     "text": [
      "404/404 [==============================] - 0s 101us/step - loss: 15.7018 - accuracy: 0.0149\n",
      "Epoch 85/100\n",
      "404/404 [==============================] - 0s 109us/step - loss: 16.2020 - accuracy: 0.0099\n",
      "Epoch 86/100\n",
      "404/404 [==============================] - 0s 84us/step - loss: 16.8705 - accuracy: 0.0124\n",
      "Epoch 87/100\n",
      "404/404 [==============================] - 0s 77us/step - loss: 16.1626 - accuracy: 0.0173\n",
      "Epoch 88/100\n",
      "404/404 [==============================] - 0s 57us/step - loss: 16.6941 - accuracy: 0.0124\n",
      "Epoch 89/100\n",
      "404/404 [==============================] - 0s 69us/step - loss: 16.6690 - accuracy: 0.0173\n",
      "Epoch 90/100\n",
      "404/404 [==============================] - 0s 79us/step - loss: 15.9948 - accuracy: 0.0173\n",
      "Epoch 91/100\n",
      "404/404 [==============================] - 0s 77us/step - loss: 16.6654 - accuracy: 0.0173\n",
      "Epoch 92/100\n",
      "404/404 [==============================] - 0s 67us/step - loss: 16.3200 - accuracy: 0.0124\n",
      "Epoch 93/100\n",
      "404/404 [==============================] - 0s 67us/step - loss: 15.9486 - accuracy: 0.0099\n",
      "Epoch 94/100\n",
      "404/404 [==============================] - 0s 69us/step - loss: 16.9885 - accuracy: 0.0074\n",
      "Epoch 95/100\n",
      "404/404 [==============================] - 0s 74us/step - loss: 16.8755 - accuracy: 0.0198\n",
      "Epoch 96/100\n",
      "404/404 [==============================] - 0s 69us/step - loss: 16.6138 - accuracy: 0.0124\n",
      "Epoch 97/100\n",
      "404/404 [==============================] - 0s 67us/step - loss: 15.6620 - accuracy: 0.0173\n",
      "Epoch 98/100\n",
      "404/404 [==============================] - 0s 69us/step - loss: 15.9449 - accuracy: 0.0124\n",
      "Epoch 99/100\n",
      "404/404 [==============================] - 0s 59us/step - loss: 16.0800 - accuracy: 0.0149\n",
      "Epoch 100/100\n",
      "404/404 [==============================] - 0s 57us/step - loss: 15.9240 - accuracy: 0.0099\n"
     ]
    },
    {
     "data": {
      "text/plain": [
       "<keras.callbacks.callbacks.History at 0x1db7a117080>"
      ]
     },
     "execution_count": 467,
     "metadata": {},
     "output_type": "execute_result"
    }
   ],
   "source": [
    "# train the model\n",
    "# add 'early stopping' function. The more epochs means the more time it will take to run the model. If the model stops \n",
    "# improving as it runs through the epochs, 'early stopping' will stop the model.\n",
    "\n",
    "# https://towardsdatascience.com/building-a-deep-learning-model-using-keras-1548ca149d37 (8)\n",
    "#set early stopping monitor so the model stops training when it won't improve anymore\n",
    "early_stopping_monitor = EarlyStopping(patience=3)\n",
    "#train model\n",
    "m.fit(xtrain, ytrain, epochs=100, callbacks=[early_stopping_monitor])\n"
   ]
  },
  {
   "cell_type": "markdown",
   "metadata": {},
   "source": [
    "#### PREDICT MEDIAN HOUSE VALUE"
   ]
  },
  {
   "cell_type": "code",
   "execution_count": 424,
   "metadata": {},
   "outputs": [
    {
     "data": {
      "text/plain": [
       "array([[24, 21, 23, 11, 19, 21, 19, 20, 15, 21, 12, 14, 15, 10, 48, 35,\n",
       "        20, 43, 28, 20]])"
      ]
     },
     "execution_count": 424,
     "metadata": {},
     "output_type": "execute_result"
    }
   ],
   "source": [
    "#m.predict(xtest)\n",
    "p = m.predict(xtest)[0:20].astype(int).T\n",
    "p"
   ]
  },
  {
   "cell_type": "code",
   "execution_count": 425,
   "metadata": {},
   "outputs": [
    {
     "name": "stderr",
     "output_type": "stream",
     "text": [
      "C:\\Users\\patri\\Anaconda3\\lib\\site-packages\\ipykernel_launcher.py:4: FutureWarning: Method .as_matrix will be removed in a future version. Use .values instead.\n",
      "  after removing the cwd from sys.path.\n"
     ]
    },
    {
     "data": {
      "text/plain": [
       "array([22, 50, 23,  8, 21, 19, 20, 18, 16, 18,  8, 17, 14, 10, 50, 29, 23,\n",
       "       33, 29, 21])"
      ]
     },
     "execution_count": 425,
     "metadata": {},
     "output_type": "execute_result"
    }
   ],
   "source": [
    "# convert results into matrix\n",
    "# https://web.microsoftstream.com/video/14ffd8b4-9601-4098-b406-95c33105635f (9)\n",
    "\n",
    "yt = ytest.as_matrix()[0:20].astype(int) \n",
    " \n",
    "yt"
   ]
  },
  {
   "cell_type": "markdown",
   "metadata": {},
   "source": [
    "#### ACTUAL vs PREDICTION"
   ]
  },
  {
   "cell_type": "code",
   "execution_count": 430,
   "metadata": {},
   "outputs": [
    {
     "data": {
      "text/html": [
       "<div>\n",
       "<style scoped>\n",
       "    .dataframe tbody tr th:only-of-type {\n",
       "        vertical-align: middle;\n",
       "    }\n",
       "\n",
       "    .dataframe tbody tr th {\n",
       "        vertical-align: top;\n",
       "    }\n",
       "\n",
       "    .dataframe thead th {\n",
       "        text-align: right;\n",
       "    }\n",
       "</style>\n",
       "<table border=\"1\" class=\"dataframe\">\n",
       "  <thead>\n",
       "    <tr style=\"text-align: right;\">\n",
       "      <th></th>\n",
       "      <th>Actual</th>\n",
       "      <th>Predicted</th>\n",
       "      <th>Diff</th>\n",
       "    </tr>\n",
       "  </thead>\n",
       "  <tbody>\n",
       "    <tr>\n",
       "      <th>0</th>\n",
       "      <td>22</td>\n",
       "      <td>24</td>\n",
       "      <td>-2</td>\n",
       "    </tr>\n",
       "    <tr>\n",
       "      <th>1</th>\n",
       "      <td>50</td>\n",
       "      <td>21</td>\n",
       "      <td>29</td>\n",
       "    </tr>\n",
       "    <tr>\n",
       "      <th>2</th>\n",
       "      <td>23</td>\n",
       "      <td>23</td>\n",
       "      <td>0</td>\n",
       "    </tr>\n",
       "    <tr>\n",
       "      <th>3</th>\n",
       "      <td>8</td>\n",
       "      <td>11</td>\n",
       "      <td>-3</td>\n",
       "    </tr>\n",
       "    <tr>\n",
       "      <th>4</th>\n",
       "      <td>21</td>\n",
       "      <td>19</td>\n",
       "      <td>2</td>\n",
       "    </tr>\n",
       "    <tr>\n",
       "      <th>5</th>\n",
       "      <td>19</td>\n",
       "      <td>21</td>\n",
       "      <td>-2</td>\n",
       "    </tr>\n",
       "    <tr>\n",
       "      <th>6</th>\n",
       "      <td>20</td>\n",
       "      <td>19</td>\n",
       "      <td>1</td>\n",
       "    </tr>\n",
       "    <tr>\n",
       "      <th>7</th>\n",
       "      <td>18</td>\n",
       "      <td>20</td>\n",
       "      <td>-2</td>\n",
       "    </tr>\n",
       "    <tr>\n",
       "      <th>8</th>\n",
       "      <td>16</td>\n",
       "      <td>15</td>\n",
       "      <td>1</td>\n",
       "    </tr>\n",
       "    <tr>\n",
       "      <th>9</th>\n",
       "      <td>18</td>\n",
       "      <td>21</td>\n",
       "      <td>-3</td>\n",
       "    </tr>\n",
       "    <tr>\n",
       "      <th>10</th>\n",
       "      <td>8</td>\n",
       "      <td>12</td>\n",
       "      <td>-4</td>\n",
       "    </tr>\n",
       "    <tr>\n",
       "      <th>11</th>\n",
       "      <td>17</td>\n",
       "      <td>14</td>\n",
       "      <td>3</td>\n",
       "    </tr>\n",
       "    <tr>\n",
       "      <th>12</th>\n",
       "      <td>14</td>\n",
       "      <td>15</td>\n",
       "      <td>-1</td>\n",
       "    </tr>\n",
       "    <tr>\n",
       "      <th>13</th>\n",
       "      <td>10</td>\n",
       "      <td>10</td>\n",
       "      <td>0</td>\n",
       "    </tr>\n",
       "    <tr>\n",
       "      <th>14</th>\n",
       "      <td>50</td>\n",
       "      <td>48</td>\n",
       "      <td>2</td>\n",
       "    </tr>\n",
       "    <tr>\n",
       "      <th>15</th>\n",
       "      <td>29</td>\n",
       "      <td>35</td>\n",
       "      <td>-6</td>\n",
       "    </tr>\n",
       "    <tr>\n",
       "      <th>16</th>\n",
       "      <td>23</td>\n",
       "      <td>20</td>\n",
       "      <td>3</td>\n",
       "    </tr>\n",
       "    <tr>\n",
       "      <th>17</th>\n",
       "      <td>33</td>\n",
       "      <td>43</td>\n",
       "      <td>-10</td>\n",
       "    </tr>\n",
       "    <tr>\n",
       "      <th>18</th>\n",
       "      <td>29</td>\n",
       "      <td>28</td>\n",
       "      <td>1</td>\n",
       "    </tr>\n",
       "    <tr>\n",
       "      <th>19</th>\n",
       "      <td>21</td>\n",
       "      <td>20</td>\n",
       "      <td>1</td>\n",
       "    </tr>\n",
       "  </tbody>\n",
       "</table>\n",
       "</div>"
      ],
      "text/plain": [
       "    Actual  Predicted  Diff\n",
       "0       22         24    -2\n",
       "1       50         21    29\n",
       "2       23         23     0\n",
       "3        8         11    -3\n",
       "4       21         19     2\n",
       "5       19         21    -2\n",
       "6       20         19     1\n",
       "7       18         20    -2\n",
       "8       16         15     1\n",
       "9       18         21    -3\n",
       "10       8         12    -4\n",
       "11      17         14     3\n",
       "12      14         15    -1\n",
       "13      10         10     0\n",
       "14      50         48     2\n",
       "15      29         35    -6\n",
       "16      23         20     3\n",
       "17      33         43   -10\n",
       "18      29         28     1\n",
       "19      21         20     1"
      ]
     },
     "execution_count": 430,
     "metadata": {},
     "output_type": "execute_result"
    }
   ],
   "source": [
    "# copy and paste the results of p and yt, where y1 = p and y2 = yt.\n",
    "\n",
    "y1 = [24, 21, 23, 11, 19, 21, 19, 20, 15, 21, 12, 14, 15, 10, 48, 35, 20, 43, 28, 20]\n",
    "y2= [22, 50, 23,  8, 21, 19, 20, 18, 16, 18,  8, 17, 14, 10, 50, 29, 23, 33, 29, 21]\n",
    "\n",
    "\n",
    "# create dataframes to be able to calculate the differnce between our actual house price and our predicted house price.\n",
    "\n",
    "df1 = pd.DataFrame({'Actual':y2, 'Predicted':y1})\n",
    "y3 = df1['Actual'] - df1['Predicted']\n",
    "df2 = pd.DataFrame({'Actual':y2, 'Predicted':y1, 'Diff':y3})\n",
    "df3 = df2.head(20)\n",
    "df3"
   ]
  },
  {
   "cell_type": "markdown",
   "metadata": {},
   "source": [
    "#### ACTUAL vs PREDICTION VISUALIZATION"
   ]
  },
  {
   "cell_type": "markdown",
   "metadata": {},
   "source": [
    "To give the data some visualization, I will create a bar chart showing the Actual vs Prediction results. "
   ]
  },
  {
   "cell_type": "code",
   "execution_count": 431,
   "metadata": {},
   "outputs": [],
   "source": [
    "# adjust plot size\n",
    "plt.rcParams['figure.figsize'] = 10, 7.5"
   ]
  },
  {
   "cell_type": "code",
   "execution_count": 432,
   "metadata": {},
   "outputs": [
    {
     "data": {
      "image/png": "[encoded data removed]",
      "text/plain": [
       "<Figure size 720x540 with 1 Axes>"
      ]
     },
     "metadata": {},
     "output_type": "display_data"
    }
   ],
   "source": [
    "df5 = pd.DataFrame({'Actual':y1, 'Predicted':y2})\n",
    "ax = df5.plot.bar(rot=0)"
   ]
  },
  {
   "cell_type": "code",
   "execution_count": 433,
   "metadata": {},
   "outputs": [
    {
     "name": "stdout",
     "output_type": "stream",
     "text": [
      "102/102 [==============================] - 0s 2ms/step\n"
     ]
    },
    {
     "data": {
      "text/plain": [
       "[31.07226786893957, 0.029411764815449715]"
      ]
     },
     "execution_count": 433,
     "metadata": {},
     "output_type": "execute_result"
    }
   ],
   "source": [
    "m.evaluate(xtest, ytest)"
   ]
  },
  {
   "cell_type": "markdown",
   "metadata": {},
   "source": [
    "### PREDICTION CONCLUSION"
   ]
  },
  {
   "cell_type": "markdown",
   "metadata": {},
   "source": [
    "In both models (all variables and three variables) the prediction looks fairly good. When looking at the bar charts of the actual vs prediction values, there isn't much of a difference in the 20 samples, except for the second sample where the actual is 50. Is this proof that the model is ready to predict the house prices accurately? No, I just don't think it is ready yet. It is certainly on it's way but not right now. The amount of things that could influence the model are many. I originally had two neuron layers but changed it to three layers which helped my come down from about 30 to about 15. I also rdiscovered that when I increased the 'Dense' variable in my neurons, the loss decreased dramatically. Changing the epochs from 10 to 100 also led to a decrease in loss. There were also numerous changes in in the compile optimizer and metrics which also seemed to have both good and bad effects on my prediction. I would need to spend more time adjusting, tweaking and praying, but I honestly beleive I could get the model to a point where I could then look at the data and start to reason what variables are needed, what variables best work together or what variables just need to be eliminated in order to get the best model.   "
   ]
  },
  {
   "cell_type": "markdown",
   "metadata": {},
   "source": [
    "## REFERENCES\n",
    "1. https://www.cs.toronto.edu/~delve/data/boston/bostonDetail.html\n",
    "2. https://stackoverflow.com/questions/29530232/how-to-check-if-any-value-is-nan-in-a-pandas-dataframe\n",
    "1a. https://github.com/selva86/datasets/blob/master/BostonHousing.csv\n",
    "3. https://towardsdatascience.com/hypothesis-testing-using-t-test-inferential-statistics-part3-6fb43683bc32\n",
    "2. https://towardsdatascience.com/linear-regression-on-boston-housing-dataset-f409b7e4a155\n",
    "4. https://hackernoon.com/build-your-first-neural-network-to-predict-house-prices-with-keras-3fb0839680f4\n",
    "5. https://nbviewer.jupyter.org/github/ianmcloughlin/jupyter-teaching-notebooks/blob/master/preprocessing.ipynb"
   ]
  },
  {
   "cell_type": "code",
   "execution_count": null,
   "metadata": {},
   "outputs": [],
   "source": []
  }
 ],
 "metadata": {
  "kernelspec": {
   "display_name": "Python 3",
   "language": "python",
   "name": "python3"
  },
  "language_info": {
   "codemirror_mode": {
    "name": "ipython",
    "version": 3
   },
   "file_extension": ".py",
   "mimetype": "text/x-python",
   "name": "python",
   "nbconvert_exporter": "python",
   "pygments_lexer": "ipython3",
   "version": "3.7.3"
  }
 },
 "nbformat": 4,
 "nbformat_minor": 2
}
