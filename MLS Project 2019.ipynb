{
 "cells": [
  {
   "cell_type": "markdown",
   "metadata": {},
   "source": [
    "# Machine Learning and Statistics : Boston House Prices Assessment\n",
    "***"
   ]
  },
  {
   "cell_type": "markdown",
   "metadata": {},
   "source": [
    "Before I get into any project, I like to import all the libraries I will be using."
   ]
  },
  {
   "cell_type": "code",
   "execution_count": 224,
   "metadata": {},
   "outputs": [],
   "source": [
    "### import libraries necessary for the project\n",
    "\n",
    "import numpy as np\n",
    "import pandas as pd\n",
    "from scipy import stats\n",
    "import statsmodels.stats.weightstats as ws\n",
    "import matplotlib.pyplot as plt\n",
    "import keras as kr\n",
    "import seaborn as sns\n",
    "import sklearn.preprocessing as pre\n",
    "from sklearn.model_selection import train_test_split \n",
    "from sklearn import metrics\n",
    "from keras.callbacks import EarlyStopping"
   ]
  },
  {
   "cell_type": "markdown",
   "metadata": {},
   "source": [
    "***"
   ]
  },
  {
   "cell_type": "markdown",
   "metadata": {},
   "source": [
    "### SECTION 1. THE BOSTON HOUSE PRICES DATASET"
   ]
  },
  {
   "cell_type": "markdown",
   "metadata": {},
   "source": [
    "The Boston House Prices dataset contains information collected by the U.S Census Service concerning housing in the area of Boston Massachusettes. The dataset consists of 506 samples across 14 variables (columns). Please see below for a description of the 14 variables. (1)\n"
   ]
  },
  {
   "cell_type": "markdown",
   "metadata": {},
   "source": [
    "#### Boston Housing Dataset Columns\n",
    "\n",
    "\n",
    "- CRIM: Per capita crime rate by town.\n",
    "- ZN: Proportion of residential land zoned for lots over 25,000 sq. ft.\n",
    "- INDUS: Proportion of non-retail business acres per town.\n",
    "- CHAS: Charles River dummy variable (= 1 if tractbounds river; 0 otherwise).\n",
    "- NOX: Nitric oxide concentration (parts per 10 million).\n",
    "- RM: Average number of rooms per dwelling.\n",
    "- AGE: Proportion of owner-occupied units built prior to 1940.\n",
    "- DIS: Weighted distances to five Boston employme.=nt centers.\n",
    "- RAD: Index of accessibility to radial highways.\n",
    "- TAX: Full-value property tax rate per 10,000 USD.\n",
    "- PTRATIO: Pupil-teacher ratio by town.\n",
    "- B: 1000(Bk — 0.63)², where Bk is the proportion of [people of African American descent] by town.\n",
    "- LSTAT: Percentage of lower status of the population.\n",
    "- MEDV: Median value of owner-occupied homes in $1000s."
   ]
  },
  {
   "cell_type": "markdown",
   "metadata": {},
   "source": [
    "I could not find out exactly why the Boston House Price dataset is so popular especially with early learners of regression and machine learning, but I suppose it's because the dataset is very manageable. It is not loaded with a lot of data and the data is very clean.<br><br>\n",
    "To get an idea of what is in the dataset, I will import the dataset via csv file and printout the first 5 lines."
   ]
  },
  {
   "cell_type": "markdown",
   "metadata": {},
   "source": [
    "#### LOAD DATASET"
   ]
  },
  {
   "cell_type": "code",
   "execution_count": 225,
   "metadata": {},
   "outputs": [],
   "source": [
    "### CSV module is a built-in function that allows Python to parse these csv types of files.\n",
    "### use the import function to import the 'real' data set.\n",
    "### I used the following to download the dataset https://github.com/selva86/datasets/blob/master/BostonHousing.csv (1a)\n",
    "\n",
    "import csv"
   ]
  },
  {
   "cell_type": "code",
   "execution_count": 226,
   "metadata": {},
   "outputs": [],
   "source": [
    "### use open function to open the file with the data.\n",
    "\n",
    "a = open(\"bostonhousing.csv\")"
   ]
  },
  {
   "cell_type": "code",
   "execution_count": 227,
   "metadata": {},
   "outputs": [
    {
     "data": {
      "text/html": [
       "<div>\n",
       "<style scoped>\n",
       "    .dataframe tbody tr th:only-of-type {\n",
       "        vertical-align: middle;\n",
       "    }\n",
       "\n",
       "    .dataframe tbody tr th {\n",
       "        vertical-align: top;\n",
       "    }\n",
       "\n",
       "    .dataframe thead th {\n",
       "        text-align: right;\n",
       "    }\n",
       "</style>\n",
       "<table border=\"1\" class=\"dataframe\">\n",
       "  <thead>\n",
       "    <tr style=\"text-align: right;\">\n",
       "      <th></th>\n",
       "      <th>crim</th>\n",
       "      <th>zn</th>\n",
       "      <th>indus</th>\n",
       "      <th>chas</th>\n",
       "      <th>nox</th>\n",
       "      <th>rm</th>\n",
       "      <th>age</th>\n",
       "      <th>dis</th>\n",
       "      <th>rad</th>\n",
       "      <th>tax</th>\n",
       "      <th>ptratio</th>\n",
       "      <th>b</th>\n",
       "      <th>lstat</th>\n",
       "      <th>medv</th>\n",
       "    </tr>\n",
       "  </thead>\n",
       "  <tbody>\n",
       "    <tr>\n",
       "      <th>0</th>\n",
       "      <td>0.00632</td>\n",
       "      <td>18.0</td>\n",
       "      <td>2.31</td>\n",
       "      <td>0</td>\n",
       "      <td>0.538</td>\n",
       "      <td>6.575</td>\n",
       "      <td>65.2</td>\n",
       "      <td>4.0900</td>\n",
       "      <td>1</td>\n",
       "      <td>296</td>\n",
       "      <td>15.3</td>\n",
       "      <td>396.90</td>\n",
       "      <td>4.98</td>\n",
       "      <td>24.0</td>\n",
       "    </tr>\n",
       "    <tr>\n",
       "      <th>1</th>\n",
       "      <td>0.02731</td>\n",
       "      <td>0.0</td>\n",
       "      <td>7.07</td>\n",
       "      <td>0</td>\n",
       "      <td>0.469</td>\n",
       "      <td>6.421</td>\n",
       "      <td>78.9</td>\n",
       "      <td>4.9671</td>\n",
       "      <td>2</td>\n",
       "      <td>242</td>\n",
       "      <td>17.8</td>\n",
       "      <td>396.90</td>\n",
       "      <td>9.14</td>\n",
       "      <td>21.6</td>\n",
       "    </tr>\n",
       "    <tr>\n",
       "      <th>2</th>\n",
       "      <td>0.02729</td>\n",
       "      <td>0.0</td>\n",
       "      <td>7.07</td>\n",
       "      <td>0</td>\n",
       "      <td>0.469</td>\n",
       "      <td>7.185</td>\n",
       "      <td>61.1</td>\n",
       "      <td>4.9671</td>\n",
       "      <td>2</td>\n",
       "      <td>242</td>\n",
       "      <td>17.8</td>\n",
       "      <td>392.83</td>\n",
       "      <td>4.03</td>\n",
       "      <td>34.7</td>\n",
       "    </tr>\n",
       "    <tr>\n",
       "      <th>3</th>\n",
       "      <td>0.03237</td>\n",
       "      <td>0.0</td>\n",
       "      <td>2.18</td>\n",
       "      <td>0</td>\n",
       "      <td>0.458</td>\n",
       "      <td>6.998</td>\n",
       "      <td>45.8</td>\n",
       "      <td>6.0622</td>\n",
       "      <td>3</td>\n",
       "      <td>222</td>\n",
       "      <td>18.7</td>\n",
       "      <td>394.63</td>\n",
       "      <td>2.94</td>\n",
       "      <td>33.4</td>\n",
       "    </tr>\n",
       "    <tr>\n",
       "      <th>4</th>\n",
       "      <td>0.06905</td>\n",
       "      <td>0.0</td>\n",
       "      <td>2.18</td>\n",
       "      <td>0</td>\n",
       "      <td>0.458</td>\n",
       "      <td>7.147</td>\n",
       "      <td>54.2</td>\n",
       "      <td>6.0622</td>\n",
       "      <td>3</td>\n",
       "      <td>222</td>\n",
       "      <td>18.7</td>\n",
       "      <td>396.90</td>\n",
       "      <td>5.33</td>\n",
       "      <td>36.2</td>\n",
       "    </tr>\n",
       "  </tbody>\n",
       "</table>\n",
       "</div>"
      ],
      "text/plain": [
       "      crim    zn  indus  chas    nox     rm   age     dis  rad  tax  ptratio  \\\n",
       "0  0.00632  18.0   2.31     0  0.538  6.575  65.2  4.0900    1  296     15.3   \n",
       "1  0.02731   0.0   7.07     0  0.469  6.421  78.9  4.9671    2  242     17.8   \n",
       "2  0.02729   0.0   7.07     0  0.469  7.185  61.1  4.9671    2  242     17.8   \n",
       "3  0.03237   0.0   2.18     0  0.458  6.998  45.8  6.0622    3  222     18.7   \n",
       "4  0.06905   0.0   2.18     0  0.458  7.147  54.2  6.0622    3  222     18.7   \n",
       "\n",
       "        b  lstat  medv  \n",
       "0  396.90   4.98  24.0  \n",
       "1  396.90   9.14  21.6  \n",
       "2  392.83   4.03  34.7  \n",
       "3  394.63   2.94  33.4  \n",
       "4  396.90   5.33  36.2  "
      ]
     },
     "execution_count": 227,
     "metadata": {},
     "output_type": "execute_result"
    }
   ],
   "source": [
    "### The reader object allows iteration, much like a regular file object does. This allows for iteration over each row \n",
    "### in the reader object and the print out of the line of data, minus the commas. This works because each row is a list\n",
    "### and we can join each element in the list together, forming one long string.[6]\n",
    "### This is done for the complete dataset.\n",
    "### df = pd.read_csv(\"bostonhousing.csv\") creates the data frame for the data set.\n",
    "### The df.head() function gives us the first five lines of the data set.\n",
    "\n",
    "csv_a=csv.reader(a)\n",
    "df = pd.read_csv(\"bostonhousing.csv\")\n",
    "df.head()\n"
   ]
  },
  {
   "cell_type": "markdown",
   "metadata": {},
   "source": [
    "I want to check to see if there are any NA in the dataset. I need a clean dataset otherwise it will effect some of code I have below. i.e. m.fit will show a loss of nan if there is/are NA in the dataset. I will do this by running df.insnull().any. (2)"
   ]
  },
  {
   "cell_type": "code",
   "execution_count": 228,
   "metadata": {},
   "outputs": [
    {
     "data": {
      "text/plain": [
       "crim       False\n",
       "zn         False\n",
       "indus      False\n",
       "chas       False\n",
       "nox        False\n",
       "rm         False\n",
       "age        False\n",
       "dis        False\n",
       "rad        False\n",
       "tax        False\n",
       "ptratio    False\n",
       "b          False\n",
       "lstat      False\n",
       "medv       False\n",
       "dtype: bool"
      ]
     },
     "execution_count": 228,
     "metadata": {},
     "output_type": "execute_result"
    }
   ],
   "source": [
    "nl = df.isnull().any()\n",
    "nl"
   ]
  },
  {
   "cell_type": "markdown",
   "metadata": {},
   "source": [
    "Since all Falses were returned, it means the dataset is void of any NAs. We are good to proceed."
   ]
  },
  {
   "cell_type": "markdown",
   "metadata": {},
   "source": [
    "Since both the assessment questions relate to the median price of the houses, I will use some plots to get a good visualization of the median house prices. The first plot will be the distribution plot of the median house value.\n",
    "The way I will do this is to use a distibution plot using the seaborn library."
   ]
  },
  {
   "cell_type": "code",
   "execution_count": 229,
   "metadata": {
    "scrolled": true
   },
   "outputs": [
    {
     "data": {
      "image/png": "[encoded data removed]",
      "text/plain": [
       "<Figure size 1080x360 with 1 Axes>"
      ]
     },
     "metadata": {},
     "output_type": "display_data"
    }
   ],
   "source": [
    "sns.set(rc={'figure.figsize':(15.0,5.0)})\n",
    "sns.distplot(df['medv'])\n",
    "plt.show()"
   ]
  },
  {
   "cell_type": "markdown",
   "metadata": {},
   "source": [
    "The distribution is fairly normal with a few outliers. It also shows that a good amount of houses' median values are in the 19,000 to 25,000 range.<br>\n",
    "To get a better visualization of the data, I'll plot the frequency by median value (medv) using a basic histogram plot."
   ]
  },
  {
   "cell_type": "code",
   "execution_count": 230,
   "metadata": {
    "scrolled": true
   },
   "outputs": [
    {
     "data": {
      "text/plain": [
       "<matplotlib.axes._subplots.AxesSubplot at 0x1db6d16e4e0>"
      ]
     },
     "execution_count": 230,
     "metadata": {},
     "output_type": "execute_result"
    },
    {
     "data": {
      "image/png": "[encoded data removed]",
      "text/plain": [
       "<Figure size 1080x360 with 1 Axes>"
      ]
     },
     "metadata": {},
     "output_type": "display_data"
    }
   ],
   "source": [
    "plt.rcParams['figure.figsize'] = (15.0, 5.0)\n",
    "df['medv'].hist()"
   ]
  },
  {
   "cell_type": "markdown",
   "metadata": {},
   "source": [
    "Again this just supports the distribution plot in showing a fairly normal distribution and also gives a good overall visualization to the median value of house prices in Boston based on the dataset."
   ]
  },
  {
   "cell_type": "markdown",
   "metadata": {},
   "source": [
    "The plots are nice and give a good idea of the median house price but I'm a numbers gut. I also want to see some basic stats like maximum price, minimum price and mean price. This will give me a good idea of the numerical values related to the dataset. To do this, I'll just run a describe on the MEDV column.\n"
   ]
  },
  {
   "cell_type": "code",
   "execution_count": 231,
   "metadata": {},
   "outputs": [
    {
     "data": {
      "text/plain": [
       "count    506.000000\n",
       "mean      22.532806\n",
       "std        9.197104\n",
       "min        5.000000\n",
       "25%       17.025000\n",
       "50%       21.200000\n",
       "75%       25.000000\n",
       "max       50.000000\n",
       "Name: medv, dtype: float64"
      ]
     },
     "execution_count": 231,
     "metadata": {},
     "output_type": "execute_result"
    }
   ],
   "source": [
    "df['medv'].describe()"
   ]
  },
  {
   "cell_type": "markdown",
   "metadata": {},
   "source": [
    "So we see that the max value is 50.0 and the min value is 5.0 with a mean of 22.532. \n",
    "***"
   ]
  },
  {
   "cell_type": "markdown",
   "metadata": {},
   "source": [
    "### SECTION 2. MEDIAN HOUSE PRICE DIFFERENCE"
   ]
  },
  {
   "cell_type": "markdown",
   "metadata": {},
   "source": [
    "I will use inferential statistics to analyse whether there is a significant difference in the median house prices\n",
    "that are along the Charles River verse those that aren't. More specifically, I will use a t-test.\n",
    "\"A t-test is a parametric test which tells you how significant the differences between group sare;In other words, \n",
    "it lets you know if those differences(measured in means/averages) could have happened by chance.\" (3)<br>\n",
    "Before we run the t-test, I need to calculate the median values of the houses along the Charles River and the houses not along the Charles River."
   ]
  },
  {
   "cell_type": "markdown",
   "metadata": {},
   "source": [
    "You'll notice in the dataset, that the CHAS column is filled with either a 0 or a 1. 0 means that the house is not on the Charles River and 1 means that it is on the Charles River. This is important because this will help us to answer our first question, is the median value of a house along the Charles River more than one that is not? Below I will separate the the 0 and 1 by calling them o and n respectively and then determining there median values as well as their count."
   ]
  },
  {
   "cell_type": "code",
   "execution_count": 232,
   "metadata": {},
   "outputs": [],
   "source": [
    "o = df[df['chas'] == 1.0]\n",
    "n = df[df['chas'] == 0.0]"
   ]
  },
  {
   "cell_type": "code",
   "execution_count": 233,
   "metadata": {},
   "outputs": [
    {
     "name": "stdout",
     "output_type": "stream",
     "text": [
      "The number of houses on the Charles River is: 35\n",
      "----------------\n",
      "The number of houses NOT on the Charles River is: 471\n",
      "----------------\n",
      "The mean price for a house on the Charles River is: 28.44\n",
      "----------------\n",
      "The mean price for a house NOT on the Charles River is: 22.093842887473482\n"
     ]
    }
   ],
   "source": [
    "# calculate the number in each category and then calculate means of those categories.\n",
    "nA = len(o)\n",
    "nB = len(n)\n",
    "print('The number of houses on the Charles River is:',(nA))\n",
    "print('----------------')\n",
    "print('The number of houses NOT on the Charles River is:',(nB))\n",
    "print('----------------')\n",
    "mo = np.mean(o.medv)\n",
    "mn = np.mean(n.medv)\n",
    "print('The mean price for a house on the Charles River is:',(mo))\n",
    "\n",
    "print('----------------')\n",
    "print('The mean price for a house NOT on the Charles River is:',(mn))\n",
    "\n",
    "\n"
   ]
  },
  {
   "cell_type": "markdown",
   "metadata": {},
   "source": [
    "### t test"
   ]
  },
  {
   "cell_type": "markdown",
   "metadata": {},
   "source": [
    "To find out if there is a difference between the median value of a house on the Charles river and a house not along the Charles River, I will use a t-test.\n",
    "A t-test will test the null hypotheses. the null hypothesis in medain value is whether the median value of a house along the Charles River is EQUAL to a house not along the Charles River. An important note to make is that the data in the Boston Housing dataset is just a small sample of the population of houses in Boston. The t-test will provide a result based on the population."
   ]
  },
  {
   "cell_type": "code",
   "execution_count": 234,
   "metadata": {},
   "outputs": [
    {
     "name": "stdout",
     "output_type": "stream",
     "text": [
      "Ttest_indResult(statistic=3.996437466090509, pvalue=7.390623170519905e-05)\n"
     ]
    }
   ],
   "source": [
    "print(stats.ttest_ind(o['medv'], n['medv']))"
   ]
  },
  {
   "cell_type": "markdown",
   "metadata": {},
   "source": [
    "Based on the pvalue, where P < .001, in the results of the t-test, we would reject the null hypothesis. This basically says that the means of the the two populations are different.\n",
    "***"
   ]
  },
  {
   "cell_type": "markdown",
   "metadata": {},
   "source": [
    "### SECTION 3. PREDICTING THE MEDIAN HOUSE PRICE"
   ]
  },
  {
   "cell_type": "markdown",
   "metadata": {},
   "source": [
    "These are the steps I will take in building my prediction model:\n",
    "> 1. Scale the data.<br>\n",
    "> 2. Build the model utilizing a neural network and adding layers.<br>\n",
    "> 3. Split the dataset into training and test groups.<br>\n",
    "> 4. Train the neural network model.<br>\n",
    "> 5. Predict the median house value.<br>\n",
    "> 6. Evaluate the results."
   ]
  },
  {
   "cell_type": "markdown",
   "metadata": {},
   "source": [
    "#### SCALE DATASET"
   ]
  },
  {
   "cell_type": "markdown",
   "metadata": {},
   "source": [
    "I want to scale the dataset. I do this because some numbers in the dataset are in thousands, some are from 0 to 2 or 1 to 10. This makes it difficult for the initialization of the neural network. using the scale feature ensures that the input features have similar orders of magnitude. (4)"
   ]
  },
  {
   "cell_type": "code",
   "execution_count": 235,
   "metadata": {},
   "outputs": [],
   "source": [
    "# https://scikit-learn.org/stable/modules/preprocessing.html#preprocessing per Ian McLoughlin github page (5)\n",
    "xscale = pd.DataFrame(pre.scale(df), columns=df.columns)\n"
   ]
  },
  {
   "cell_type": "markdown",
   "metadata": {},
   "source": [
    "#### BUILD MODEL"
   ]
  },
  {
   "cell_type": "code",
   "execution_count": 294,
   "metadata": {},
   "outputs": [],
   "source": [
    "# create a neural network\n",
    "m = kr.models.Sequential()\n",
    "\n",
    "# add neurons\n",
    "m.add(kr.layers.Dense(260, input_dim=13, kernel_initializer='normal', activation='relu'))\n",
    "m.add(kr.layers.Dense(260, activation=\"relu\"))\n",
    "m.add(kr.layers.Dense(260, activation=\"relu\"))\n",
    "\n",
    "# add layer to output prediction of MEDV, therefore size equals 1.\n",
    "m.add(kr.layers.Dense(1, kernel_initializer='normal'))                     \n",
    "                      \n",
    "# compile the model\n",
    "m.compile(optimizer=\"adam\", loss=\"mean_squared_error\", metrics=['accuracy'])\n"
   ]
  },
  {
   "cell_type": "code",
   "execution_count": 295,
   "metadata": {},
   "outputs": [
    {
     "name": "stdout",
     "output_type": "stream",
     "text": [
      "Model: \"sequential_22\"\n",
      "_________________________________________________________________\n",
      "Layer (type)                 Output Shape              Param #   \n",
      "=================================================================\n",
      "dense_83 (Dense)             (None, 260)               3640      \n",
      "_________________________________________________________________\n",
      "dense_84 (Dense)             (None, 260)               67860     \n",
      "_________________________________________________________________\n",
      "dense_85 (Dense)             (None, 260)               67860     \n",
      "_________________________________________________________________\n",
      "dense_86 (Dense)             (None, 1)                 261       \n",
      "=================================================================\n",
      "Total params: 139,621\n",
      "Trainable params: 139,621\n",
      "Non-trainable params: 0\n",
      "_________________________________________________________________\n"
     ]
    }
   ],
   "source": [
    "#use summary() to show layer, shape and number of parameters in the model\n",
    "m.summary()"
   ]
  },
  {
   "cell_type": "markdown",
   "metadata": {},
   "source": [
    "#### SPLIT DATASET"
   ]
  },
  {
   "cell_type": "markdown",
   "metadata": {},
   "source": [
    "I will split the dataset in two, x and y. y will be the 'medv' I need to predict and x will be all the other variables."
   ]
  },
  {
   "cell_type": "code",
   "execution_count": 296,
   "metadata": {},
   "outputs": [],
   "source": [
    "# use the iloc function to easily include all variable headers except 'medv'.\n",
    "x = df.iloc[:, 0:13]"
   ]
  },
  {
   "cell_type": "code",
   "execution_count": 297,
   "metadata": {},
   "outputs": [],
   "source": [
    "y = df['medv']"
   ]
  },
  {
   "cell_type": "code",
   "execution_count": 298,
   "metadata": {},
   "outputs": [
    {
     "name": "stdout",
     "output_type": "stream",
     "text": [
      "xtrain shape :  (404, 13)\n",
      "xtest shape  :  (102, 13)\n",
      "ytrain shape :  (404,)\n",
      "ytest shape  :  (102,)\n"
     ]
    }
   ],
   "source": [
    "# splitting data to training and testing dataset.  \n",
    "# print data shape\n",
    "xtrain, xtest, ytrain, ytest = train_test_split(x, y, test_size =0.2, random_state = 0) \n",
    "   \n",
    "print(\"xtrain shape : \", xtrain.shape) \n",
    "print(\"xtest shape  : \", xtest.shape) \n",
    "print(\"ytrain shape : \", ytrain.shape) \n",
    "print(\"ytest shape  : \", ytest.shape) "
   ]
  },
  {
   "cell_type": "markdown",
   "metadata": {},
   "source": [
    "#### TRAIN THE MODEL"
   ]
  },
  {
   "cell_type": "code",
   "execution_count": 299,
   "metadata": {},
   "outputs": [
    {
     "name": "stdout",
     "output_type": "stream",
     "text": [
      "Epoch 1/100\n",
      "404/404 [==============================] - 0s 853us/step - loss: 118.1429 - accuracy: 0.0025\n",
      "Epoch 2/100\n",
      "404/404 [==============================] - 0s 138us/step - loss: 73.8469 - accuracy: 0.0149\n",
      "Epoch 3/100\n",
      "404/404 [==============================] - 0s 160us/step - loss: 58.9671 - accuracy: 0.0050\n",
      "Epoch 4/100\n",
      "404/404 [==============================] - 0s 205us/step - loss: 58.4002 - accuracy: 0.0000e+00\n",
      "Epoch 5/100\n",
      "404/404 [==============================] - 0s 160us/step - loss: 54.6555 - accuracy: 0.0050\n",
      "Epoch 6/100\n",
      "404/404 [==============================] - 0s 131us/step - loss: 49.9850 - accuracy: 0.0050\n",
      "Epoch 7/100\n",
      "404/404 [==============================] - 0s 136us/step - loss: 48.1431 - accuracy: 0.0025\n",
      "Epoch 8/100\n",
      "404/404 [==============================] - 0s 163us/step - loss: 49.4199 - accuracy: 0.0050\n",
      "Epoch 9/100\n",
      "404/404 [==============================] - 0s 175us/step - loss: 46.9874 - accuracy: 0.0099\n",
      "Epoch 10/100\n",
      "404/404 [==============================] - 0s 151us/step - loss: 45.4312 - accuracy: 0.0099\n",
      "Epoch 11/100\n",
      "404/404 [==============================] - 0s 131us/step - loss: 41.2532 - accuracy: 0.0050\n",
      "Epoch 12/100\n",
      "404/404 [==============================] - 0s 153us/step - loss: 44.5993 - accuracy: 0.0124\n",
      "Epoch 13/100\n",
      "404/404 [==============================] - 0s 139us/step - loss: 38.2942 - accuracy: 0.0124\n",
      "Epoch 14/100\n",
      "404/404 [==============================] - 0s 123us/step - loss: 35.6164 - accuracy: 0.0173\n",
      "Epoch 15/100\n",
      "404/404 [==============================] - 0s 168us/step - loss: 35.5670 - accuracy: 0.0074\n",
      "Epoch 16/100\n",
      "404/404 [==============================] - 0s 138us/step - loss: 35.1778 - accuracy: 0.0124\n",
      "Epoch 17/100\n",
      "404/404 [==============================] - 0s 163us/step - loss: 36.6980 - accuracy: 0.0124\n",
      "Epoch 18/100\n",
      "404/404 [==============================] - 0s 165us/step - loss: 30.1273 - accuracy: 0.0074\n",
      "Epoch 19/100\n",
      "404/404 [==============================] - 0s 190us/step - loss: 34.2763 - accuracy: 0.0124\n",
      "Epoch 20/100\n",
      "404/404 [==============================] - 0s 175us/step - loss: 26.8306 - accuracy: 0.0149\n",
      "Epoch 21/100\n",
      "404/404 [==============================] - 0s 146us/step - loss: 40.7309 - accuracy: 0.0050\n",
      "Epoch 22/100\n",
      "404/404 [==============================] - 0s 136us/step - loss: 30.1993 - accuracy: 0.0099\n",
      "Epoch 23/100\n",
      "404/404 [==============================] - 0s 138us/step - loss: 27.6532 - accuracy: 0.0099\n",
      "Epoch 24/100\n",
      "404/404 [==============================] - 0s 163us/step - loss: 24.8122 - accuracy: 0.0099\n",
      "Epoch 25/100\n",
      "404/404 [==============================] - 0s 148us/step - loss: 23.8775 - accuracy: 0.0124\n",
      "Epoch 26/100\n",
      "404/404 [==============================] - 0s 133us/step - loss: 23.2466 - accuracy: 0.0074\n",
      "Epoch 27/100\n",
      "404/404 [==============================] - 0s 156us/step - loss: 21.1294 - accuracy: 0.0074\n",
      "Epoch 28/100\n",
      "404/404 [==============================] - 0s 141us/step - loss: 25.0634 - accuracy: 0.0099\n",
      "Epoch 29/100\n",
      "404/404 [==============================] - 0s 133us/step - loss: 31.9224 - accuracy: 0.0074\n",
      "Epoch 30/100\n",
      "404/404 [==============================] - 0s 188us/step - loss: 25.1492 - accuracy: 0.0149\n",
      "Epoch 31/100\n",
      "404/404 [==============================] - 0s 156us/step - loss: 21.2556 - accuracy: 0.0149\n",
      "Epoch 32/100\n",
      "404/404 [==============================] - 0s 136us/step - loss: 20.7962 - accuracy: 0.0198\n",
      "Epoch 33/100\n",
      "404/404 [==============================] - 0s 141us/step - loss: 22.2058 - accuracy: 0.0149\n",
      "Epoch 34/100\n",
      "404/404 [==============================] - 0s 160us/step - loss: 17.8913 - accuracy: 0.0099\n",
      "Epoch 35/100\n",
      "404/404 [==============================] - 0s 160us/step - loss: 19.7195 - accuracy: 0.0198\n",
      "Epoch 36/100\n",
      "404/404 [==============================] - 0s 153us/step - loss: 19.1610 - accuracy: 0.0050\n",
      "Epoch 37/100\n",
      "404/404 [==============================] - 0s 138us/step - loss: 18.9494 - accuracy: 0.0074\n",
      "Epoch 38/100\n",
      "404/404 [==============================] - 0s 142us/step - loss: 16.8356 - accuracy: 0.0149\n",
      "Epoch 39/100\n",
      "404/404 [==============================] - 0s 131us/step - loss: 20.4210 - accuracy: 0.0099\n",
      "Epoch 40/100\n",
      "404/404 [==============================] - 0s 158us/step - loss: 25.7255 - accuracy: 0.0099\n",
      "Epoch 41/100\n",
      "404/404 [==============================] - 0s 121us/step - loss: 17.4552 - accuracy: 0.0050\n",
      "Epoch 42/100\n",
      "404/404 [==============================] - 0s 183us/step - loss: 17.8416 - accuracy: 0.0099\n",
      "Epoch 43/100\n",
      "404/404 [==============================] - 0s 133us/step - loss: 17.5500 - accuracy: 0.0074\n",
      "Epoch 44/100\n",
      "404/404 [==============================] - 0s 141us/step - loss: 19.8030 - accuracy: 0.0025\n",
      "Epoch 45/100\n",
      "404/404 [==============================] - 0s 138us/step - loss: 17.1454 - accuracy: 0.0099\n",
      "Epoch 46/100\n",
      "404/404 [==============================] - 0s 156us/step - loss: 16.4253 - accuracy: 0.0223\n",
      "Epoch 47/100\n",
      "404/404 [==============================] - 0s 106us/step - loss: 20.1010 - accuracy: 0.0124\n",
      "Epoch 48/100\n",
      "404/404 [==============================] - 0s 141us/step - loss: 21.6286 - accuracy: 0.0124\n",
      "Epoch 49/100\n",
      "404/404 [==============================] - 0s 128us/step - loss: 15.9286 - accuracy: 0.0074\n",
      "Epoch 50/100\n",
      "404/404 [==============================] - 0s 178us/step - loss: 21.0399 - accuracy: 0.0099\n",
      "Epoch 51/100\n",
      "404/404 [==============================] - 0s 188us/step - loss: 15.9247 - accuracy: 0.0124\n",
      "Epoch 52/100\n",
      "404/404 [==============================] - 0s 173us/step - loss: 14.3912 - accuracy: 0.0099\n",
      "Epoch 53/100\n",
      "404/404 [==============================] - 0s 141us/step - loss: 14.9109 - accuracy: 0.0173\n",
      "Epoch 54/100\n",
      "404/404 [==============================] - 0s 165us/step - loss: 18.7008 - accuracy: 0.0099\n",
      "Epoch 55/100\n",
      "404/404 [==============================] - 0s 156us/step - loss: 16.7666 - accuracy: 0.0074\n",
      "Epoch 56/100\n",
      "404/404 [==============================] - 0s 178us/step - loss: 14.6376 - accuracy: 0.0025\n",
      "Epoch 57/100\n",
      "404/404 [==============================] - 0s 160us/step - loss: 14.6163 - accuracy: 0.0173\n",
      "Epoch 58/100\n",
      "404/404 [==============================] - 0s 173us/step - loss: 13.8941 - accuracy: 0.0198\n",
      "Epoch 59/100\n",
      "404/404 [==============================] - 0s 138us/step - loss: 15.0563 - accuracy: 0.0074\n",
      "Epoch 60/100\n",
      "404/404 [==============================] - 0s 165us/step - loss: 14.0663 - accuracy: 0.0198\n",
      "Epoch 61/100\n",
      "404/404 [==============================] - 0s 133us/step - loss: 16.6504 - accuracy: 0.0173\n",
      "Epoch 62/100\n",
      "404/404 [==============================] - 0s 114us/step - loss: 15.5421 - accuracy: 0.0173\n",
      "Epoch 63/100\n",
      "404/404 [==============================] - 0s 114us/step - loss: 12.9943 - accuracy: 0.0149\n",
      "Epoch 64/100\n",
      "404/404 [==============================] - 0s 114us/step - loss: 12.5206 - accuracy: 0.0025\n",
      "Epoch 65/100\n",
      "404/404 [==============================] - 0s 136us/step - loss: 16.3463 - accuracy: 0.0074\n",
      "Epoch 66/100\n",
      "404/404 [==============================] - 0s 138us/step - loss: 14.7468 - accuracy: 0.0149\n",
      "Epoch 67/100\n",
      "404/404 [==============================] - 0s 118us/step - loss: 14.7786 - accuracy: 0.0099\n",
      "Epoch 68/100\n",
      "404/404 [==============================] - 0s 121us/step - loss: 13.1497 - accuracy: 0.0149\n",
      "Epoch 69/100\n",
      "404/404 [==============================] - 0s 156us/step - loss: 13.5041 - accuracy: 0.0149\n",
      "Epoch 70/100\n",
      "404/404 [==============================] - 0s 170us/step - loss: 14.9778 - accuracy: 0.0124\n",
      "Epoch 71/100\n",
      "404/404 [==============================] - 0s 174us/step - loss: 24.0195 - accuracy: 0.0099\n",
      "Epoch 72/100\n",
      "404/404 [==============================] - 0s 192us/step - loss: 16.0476 - accuracy: 0.0074\n",
      "Epoch 73/100\n",
      "404/404 [==============================] - 0s 190us/step - loss: 16.6479 - accuracy: 0.0124\n",
      "Epoch 74/100\n",
      "404/404 [==============================] - 0s 158us/step - loss: 12.5088 - accuracy: 0.0124\n",
      "Epoch 75/100\n",
      "404/404 [==============================] - 0s 158us/step - loss: 13.0583 - accuracy: 0.0099\n",
      "Epoch 76/100\n",
      "404/404 [==============================] - 0s 143us/step - loss: 13.0098 - accuracy: 0.0074\n",
      "Epoch 77/100\n",
      "404/404 [==============================] - 0s 136us/step - loss: 11.3512 - accuracy: 0.0099\n",
      "Epoch 78/100\n",
      "404/404 [==============================] - 0s 158us/step - loss: 11.2154 - accuracy: 0.0223\n",
      "Epoch 79/100\n"
     ]
    },
    {
     "name": "stdout",
     "output_type": "stream",
     "text": [
      "404/404 [==============================] - 0s 151us/step - loss: 14.2176 - accuracy: 0.0050\n",
      "Epoch 80/100\n",
      "404/404 [==============================] - 0s 247us/step - loss: 14.2398 - accuracy: 0.0124\n",
      "Epoch 81/100\n",
      "404/404 [==============================] - 0s 163us/step - loss: 13.1220 - accuracy: 0.0074A: 0s - loss: 13.2079 - accuracy: 0.0078  \n",
      "Epoch 82/100\n",
      "404/404 [==============================] - 0s 148us/step - loss: 13.2510 - accuracy: 0.0074\n",
      "Epoch 83/100\n",
      "404/404 [==============================] - 0s 116us/step - loss: 12.4618 - accuracy: 0.0050\n",
      "Epoch 84/100\n",
      "404/404 [==============================] - 0s 126us/step - loss: 12.0384 - accuracy: 0.0173\n",
      "Epoch 85/100\n",
      "404/404 [==============================] - 0s 126us/step - loss: 12.3153 - accuracy: 0.0074\n",
      "Epoch 86/100\n",
      "404/404 [==============================] - 0s 126us/step - loss: 11.9894 - accuracy: 0.0149\n",
      "Epoch 87/100\n",
      "404/404 [==============================] - 0s 114us/step - loss: 14.3113 - accuracy: 0.0074\n",
      "Epoch 88/100\n",
      "404/404 [==============================] - 0s 111us/step - loss: 10.0349 - accuracy: 0.0198\n",
      "Epoch 89/100\n",
      "404/404 [==============================] - 0s 106us/step - loss: 16.6206 - accuracy: 0.0124\n",
      "Epoch 90/100\n",
      "404/404 [==============================] - 0s 123us/step - loss: 14.3661 - accuracy: 0.0074\n",
      "Epoch 91/100\n",
      "404/404 [==============================] - 0s 118us/step - loss: 11.8063 - accuracy: 0.0149\n",
      "Epoch 92/100\n",
      "404/404 [==============================] - 0s 114us/step - loss: 12.0426 - accuracy: 0.0173\n",
      "Epoch 93/100\n",
      "404/404 [==============================] - 0s 114us/step - loss: 10.8999 - accuracy: 0.0074\n",
      "Epoch 94/100\n",
      "404/404 [==============================] - 0s 138us/step - loss: 11.2909 - accuracy: 0.0099\n",
      "Epoch 95/100\n",
      "404/404 [==============================] - 0s 116us/step - loss: 12.9263 - accuracy: 0.0173\n",
      "Epoch 96/100\n",
      "404/404 [==============================] - 0s 106us/step - loss: 13.9819 - accuracy: 0.0272\n",
      "Epoch 97/100\n",
      "404/404 [==============================] - 0s 118us/step - loss: 12.7358 - accuracy: 0.0124\n",
      "Epoch 98/100\n",
      "404/404 [==============================] - 0s 165us/step - loss: 12.9406 - accuracy: 0.0099\n",
      "Epoch 99/100\n",
      "404/404 [==============================] - 0s 178us/step - loss: 13.7691 - accuracy: 0.0149\n",
      "Epoch 100/100\n",
      "404/404 [==============================] - 0s 160us/step - loss: 12.3671 - accuracy: 0.0124\n"
     ]
    },
    {
     "data": {
      "text/plain": [
       "<keras.callbacks.callbacks.History at 0x1db71790da0>"
      ]
     },
     "execution_count": 299,
     "metadata": {},
     "output_type": "execute_result"
    }
   ],
   "source": [
    "# train the model\n",
    "# add 'early stopping' function. The more epochs means the more time it will take to run the model. If the model stops \n",
    "# improving as it runs through the epochs, 'early stopping' will stop the model.\n",
    "# https://towardsdatascience.com/building-a-deep-learning-model-using-keras-1548ca149d37 (8)\n",
    "\n",
    "early_stopping_monitor = EarlyStopping(patience=3)\n",
    "\n",
    "#train model\n",
    "\n",
    "hist = m.fit(xtrain, ytrain, epochs=100, callbacks=[early_stopping_monitor])\n",
    "hist\n"
   ]
  },
  {
   "cell_type": "markdown",
   "metadata": {},
   "source": [
    "#### PREDICT MEDIAN HOUSE VALUE"
   ]
  },
  {
   "cell_type": "code",
   "execution_count": 368,
   "metadata": {},
   "outputs": [
    {
     "data": {
      "text/plain": [
       "array([[20, 21, 22,  9, 17, 19, 18, 22, 16, 11,  6,  9, 13,  7, 47, 26,\n",
       "        18, 34, 29, 21]])"
      ]
     },
     "execution_count": 368,
     "metadata": {},
     "output_type": "execute_result"
    }
   ],
   "source": [
    "# m.predict(xtest) and print values\n",
    "p = m.predict(xtest)[0:20].astype(int).T\n",
    "p\n"
   ]
  },
  {
   "cell_type": "code",
   "execution_count": 370,
   "metadata": {},
   "outputs": [
    {
     "name": "stderr",
     "output_type": "stream",
     "text": [
      "C:\\Users\\patri\\Anaconda3\\lib\\site-packages\\ipykernel_launcher.py:4: FutureWarning: Method .as_matrix will be removed in a future version. Use .values instead.\n",
      "  after removing the cwd from sys.path.\n"
     ]
    },
    {
     "data": {
      "text/plain": [
       "array([22, 50, 23,  8, 21, 19, 20, 18, 16, 18,  8, 17, 14, 10, 50, 29, 23,\n",
       "       33, 29, 21])"
      ]
     },
     "execution_count": 370,
     "metadata": {},
     "output_type": "execute_result"
    }
   ],
   "source": [
    "# compare predicted values to actual values \n",
    "# https://web.microsoftstream.com/video/14ffd8b4-9601-4098-b406-95c33105635f (9)\n",
    "\n",
    "yt = ytest.as_matrix()[0:20].astype(int) \n",
    " \n",
    "yt"
   ]
  },
  {
   "cell_type": "code",
   "execution_count": 372,
   "metadata": {},
   "outputs": [
    {
     "data": {
      "text/html": [
       "<div>\n",
       "<style scoped>\n",
       "    .dataframe tbody tr th:only-of-type {\n",
       "        vertical-align: middle;\n",
       "    }\n",
       "\n",
       "    .dataframe tbody tr th {\n",
       "        vertical-align: top;\n",
       "    }\n",
       "\n",
       "    .dataframe thead th {\n",
       "        text-align: right;\n",
       "    }\n",
       "</style>\n",
       "<table border=\"1\" class=\"dataframe\">\n",
       "  <thead>\n",
       "    <tr style=\"text-align: right;\">\n",
       "      <th></th>\n",
       "      <th>Actual</th>\n",
       "      <th>Predicted</th>\n",
       "      <th>Diff</th>\n",
       "    </tr>\n",
       "  </thead>\n",
       "  <tbody>\n",
       "    <tr>\n",
       "      <th>0</th>\n",
       "      <td>20</td>\n",
       "      <td>22</td>\n",
       "      <td>-2</td>\n",
       "    </tr>\n",
       "    <tr>\n",
       "      <th>1</th>\n",
       "      <td>21</td>\n",
       "      <td>50</td>\n",
       "      <td>-29</td>\n",
       "    </tr>\n",
       "    <tr>\n",
       "      <th>2</th>\n",
       "      <td>22</td>\n",
       "      <td>23</td>\n",
       "      <td>-1</td>\n",
       "    </tr>\n",
       "    <tr>\n",
       "      <th>3</th>\n",
       "      <td>9</td>\n",
       "      <td>8</td>\n",
       "      <td>1</td>\n",
       "    </tr>\n",
       "    <tr>\n",
       "      <th>4</th>\n",
       "      <td>17</td>\n",
       "      <td>21</td>\n",
       "      <td>-4</td>\n",
       "    </tr>\n",
       "    <tr>\n",
       "      <th>5</th>\n",
       "      <td>19</td>\n",
       "      <td>19</td>\n",
       "      <td>0</td>\n",
       "    </tr>\n",
       "    <tr>\n",
       "      <th>6</th>\n",
       "      <td>18</td>\n",
       "      <td>20</td>\n",
       "      <td>-2</td>\n",
       "    </tr>\n",
       "    <tr>\n",
       "      <th>7</th>\n",
       "      <td>22</td>\n",
       "      <td>18</td>\n",
       "      <td>4</td>\n",
       "    </tr>\n",
       "    <tr>\n",
       "      <th>8</th>\n",
       "      <td>16</td>\n",
       "      <td>16</td>\n",
       "      <td>0</td>\n",
       "    </tr>\n",
       "    <tr>\n",
       "      <th>9</th>\n",
       "      <td>11</td>\n",
       "      <td>18</td>\n",
       "      <td>-7</td>\n",
       "    </tr>\n",
       "    <tr>\n",
       "      <th>10</th>\n",
       "      <td>6</td>\n",
       "      <td>8</td>\n",
       "      <td>-2</td>\n",
       "    </tr>\n",
       "    <tr>\n",
       "      <th>11</th>\n",
       "      <td>9</td>\n",
       "      <td>17</td>\n",
       "      <td>-8</td>\n",
       "    </tr>\n",
       "    <tr>\n",
       "      <th>12</th>\n",
       "      <td>13</td>\n",
       "      <td>14</td>\n",
       "      <td>-1</td>\n",
       "    </tr>\n",
       "    <tr>\n",
       "      <th>13</th>\n",
       "      <td>7</td>\n",
       "      <td>10</td>\n",
       "      <td>-3</td>\n",
       "    </tr>\n",
       "    <tr>\n",
       "      <th>14</th>\n",
       "      <td>47</td>\n",
       "      <td>50</td>\n",
       "      <td>-3</td>\n",
       "    </tr>\n",
       "    <tr>\n",
       "      <th>15</th>\n",
       "      <td>26</td>\n",
       "      <td>29</td>\n",
       "      <td>-3</td>\n",
       "    </tr>\n",
       "    <tr>\n",
       "      <th>16</th>\n",
       "      <td>18</td>\n",
       "      <td>23</td>\n",
       "      <td>-5</td>\n",
       "    </tr>\n",
       "    <tr>\n",
       "      <th>17</th>\n",
       "      <td>34</td>\n",
       "      <td>33</td>\n",
       "      <td>1</td>\n",
       "    </tr>\n",
       "    <tr>\n",
       "      <th>18</th>\n",
       "      <td>29</td>\n",
       "      <td>29</td>\n",
       "      <td>0</td>\n",
       "    </tr>\n",
       "    <tr>\n",
       "      <th>19</th>\n",
       "      <td>21</td>\n",
       "      <td>21</td>\n",
       "      <td>0</td>\n",
       "    </tr>\n",
       "  </tbody>\n",
       "</table>\n",
       "</div>"
      ],
      "text/plain": [
       "    Actual  Predicted  Diff\n",
       "0       20         22    -2\n",
       "1       21         50   -29\n",
       "2       22         23    -1\n",
       "3        9          8     1\n",
       "4       17         21    -4\n",
       "5       19         19     0\n",
       "6       18         20    -2\n",
       "7       22         18     4\n",
       "8       16         16     0\n",
       "9       11         18    -7\n",
       "10       6          8    -2\n",
       "11       9         17    -8\n",
       "12      13         14    -1\n",
       "13       7         10    -3\n",
       "14      47         50    -3\n",
       "15      26         29    -3\n",
       "16      18         23    -5\n",
       "17      34         33     1\n",
       "18      29         29     0\n",
       "19      21         21     0"
      ]
     },
     "execution_count": 372,
     "metadata": {},
     "output_type": "execute_result"
    }
   ],
   "source": [
    "# copy and paste the results of p and yt, where y1 = p and y2 = yt.\n",
    "\n",
    "y1 = [20, 21, 22,  9, 17, 19, 18, 22, 16, 11,  6,  9, 13,  7, 47, 26, 18, 34, 29, 21]\n",
    "y2= [22, 50, 23,  8, 21, 19, 20, 18, 16, 18,  8, 17, 14, 10, 50, 29, 23, 33, 29, 21]\n",
    "\n",
    "\n",
    "# create dataframes to be able to calculate the differnce between our actual house price and our predicted house price.\n",
    "\n",
    "df1 = pd.DataFrame({'Actual':y1, 'Predicted':y2})\n",
    "y3 = df1['Actual'] - df1['Predicted']\n",
    "df2 = pd.DataFrame({'Actual':y1, 'Predicted':y2, 'Diff':y3})\n",
    "df3 = df2.head(20)\n",
    "df3"
   ]
  },
  {
   "cell_type": "code",
   "execution_count": 373,
   "metadata": {},
   "outputs": [],
   "source": [
    "# adjust plot size\n",
    "plt.rcParams['figure.figsize'] = 10, 7.5"
   ]
  },
  {
   "cell_type": "code",
   "execution_count": 380,
   "metadata": {},
   "outputs": [
    {
     "data": {
      "image/png": "[encoded data removed]",
      "text/plain": [
       "<Figure size 720x540 with 1 Axes>"
      ]
     },
     "metadata": {},
     "output_type": "display_data"
    }
   ],
   "source": [
    "index = df3.iloc[:, 0:20]\n",
    "df5 = pd.DataFrame({'Actual':y1, 'Predicted':y2}, index=index)\n",
    "ax = df5.plot.bar(rot=0)"
   ]
  },
  {
   "cell_type": "markdown",
   "metadata": {},
   "source": [
    "#### EVALUATE THE RESULTS"
   ]
  },
  {
   "cell_type": "code",
   "execution_count": 245,
   "metadata": {},
   "outputs": [
    {
     "name": "stdout",
     "output_type": "stream",
     "text": [
      "102/102 [==============================] - 0s 1ms/step\n"
     ]
    },
    {
     "data": {
      "text/plain": [
       "[33.74098607605579, 0.019607843831181526]"
      ]
     },
     "execution_count": 245,
     "metadata": {},
     "output_type": "execute_result"
    }
   ],
   "source": [
    "m.evaluate(xtest, ytest)"
   ]
  },
  {
   "cell_type": "markdown",
   "metadata": {},
   "source": [
    "#### 3 VARIABLES"
   ]
  },
  {
   "cell_type": "code",
   "execution_count": 247,
   "metadata": {},
   "outputs": [],
   "source": [
    "# https://scikit-learn.org/stable/modules/preprocessing.html#preprocessing per Ian McLoughlin github page (5)\n",
    "# xscale = pd.DataFrame(pre.scale(df), columns=df.columns)"
   ]
  },
  {
   "cell_type": "code",
   "execution_count": 248,
   "metadata": {},
   "outputs": [],
   "source": [
    "# create a neural network\n",
    "m = kr.models.Sequential()\n",
    "\n",
    "# add neurons\n",
    "m.add(kr.layers.Dense(300, input_dim=3, kernel_initializer='normal', activation='relu'))\n",
    "m.add(kr.layers.Dense(300, activation=\"relu\"))\n",
    "m.add(kr.layers.Dense(300, activation=\"relu\"))\n",
    "\n",
    "# add layer to output prediction of MEDV, therefore size equals 1.\n",
    "m.add(kr.layers.Dense(1, kernel_initializer='normal'))                     \n",
    "                      \n",
    "# compile the model\n",
    "m.compile(optimizer=\"adam\", loss=\"mean_squared_error\", metrics=['accuracy'])"
   ]
  },
  {
   "cell_type": "code",
   "execution_count": 249,
   "metadata": {},
   "outputs": [
    {
     "name": "stdout",
     "output_type": "stream",
     "text": [
      "xtrain shape :  (404, 13)\n",
      "xtest shape  :  (102, 13)\n",
      "ytrain shape :  (404,)\n",
      "ytest shape  :  (102,)\n"
     ]
    }
   ],
   "source": [
    "# splitting data to training and testing dataset.  \n",
    "\n",
    "xtrain, xtest, ytrain, ytest = train_test_split(x, y, test_size =0.2, random_state = 0) \n",
    "   \n",
    "print(\"xtrain shape : \", xtrain.shape) \n",
    "print(\"xtest shape  : \", xtest.shape) \n",
    "print(\"ytrain shape : \", ytrain.shape) \n",
    "print(\"ytest shape  : \", ytest.shape) "
   ]
  },
  {
   "cell_type": "code",
   "execution_count": 250,
   "metadata": {},
   "outputs": [],
   "source": [
    "# use the iloc function to easily include all variable headers except 'medv'.\n",
    "x = df[['rm','ptratio','lstat']]"
   ]
  },
  {
   "cell_type": "code",
   "execution_count": 251,
   "metadata": {},
   "outputs": [],
   "source": [
    "y = df['medv']"
   ]
  },
  {
   "cell_type": "code",
   "execution_count": 252,
   "metadata": {},
   "outputs": [
    {
     "name": "stdout",
     "output_type": "stream",
     "text": [
      "xtrain shape :  (404, 3)\n",
      "xtest shape  :  (102, 3)\n",
      "ytrain shape :  (404,)\n",
      "ytest shape  :  (102,)\n"
     ]
    }
   ],
   "source": [
    "# splitting data to training and testing dataset.  \n",
    "\n",
    "xtrain, xtest, ytrain, ytest = train_test_split(x, y, test_size =0.2, random_state = 0) \n",
    "   \n",
    "print(\"xtrain shape : \", xtrain.shape) \n",
    "print(\"xtest shape  : \", xtest.shape) \n",
    "print(\"ytrain shape : \", ytrain.shape) \n",
    "print(\"ytest shape  : \", ytest.shape) "
   ]
  },
  {
   "cell_type": "code",
   "execution_count": 253,
   "metadata": {},
   "outputs": [
    {
     "name": "stdout",
     "output_type": "stream",
     "text": [
      "Epoch 1/100\n",
      "404/404 [==============================] - 0s 809us/step - loss: 323.4774 - accuracy: 0.0025\n",
      "Epoch 2/100\n",
      "404/404 [==============================] - 0s 136us/step - loss: 132.3350 - accuracy: 0.0025\n",
      "Epoch 3/100\n",
      "404/404 [==============================] - 0s 141us/step - loss: 75.0018 - accuracy: 0.0000e+00\n",
      "Epoch 4/100\n",
      "404/404 [==============================] - 0s 168us/step - loss: 53.2653 - accuracy: 0.0099\n",
      "Epoch 5/100\n",
      "404/404 [==============================] - 0s 230us/step - loss: 45.6384 - accuracy: 0.0000e+00\n",
      "Epoch 6/100\n",
      "404/404 [==============================] - 0s 173us/step - loss: 41.8823 - accuracy: 0.0074\n",
      "Epoch 7/100\n",
      "404/404 [==============================] - 0s 193us/step - loss: 38.2980 - accuracy: 0.0099\n",
      "Epoch 8/100\n",
      "404/404 [==============================] - 0s 146us/step - loss: 34.3158 - accuracy: 0.0050\n",
      "Epoch 9/100\n",
      "404/404 [==============================] - 0s 168us/step - loss: 32.2165 - accuracy: 0.0025\n",
      "Epoch 10/100\n",
      "404/404 [==============================] - 0s 173us/step - loss: 31.0476 - accuracy: 0.0074\n",
      "Epoch 11/100\n",
      "404/404 [==============================] - 0s 174us/step - loss: 27.1065 - accuracy: 0.0050\n",
      "Epoch 12/100\n",
      "404/404 [==============================] - 0s 165us/step - loss: 24.8276 - accuracy: 0.0099\n",
      "Epoch 13/100\n",
      "404/404 [==============================] - 0s 180us/step - loss: 22.9723 - accuracy: 0.0025\n",
      "Epoch 14/100\n",
      "404/404 [==============================] - 0s 148us/step - loss: 20.5865 - accuracy: 0.0050\n",
      "Epoch 15/100\n",
      "404/404 [==============================] - 0s 143us/step - loss: 20.6244 - accuracy: 0.0124\n",
      "Epoch 16/100\n",
      "404/404 [==============================] - 0s 123us/step - loss: 19.8025 - accuracy: 0.0124\n",
      "Epoch 17/100\n",
      "404/404 [==============================] - 0s 136us/step - loss: 18.7711 - accuracy: 0.0149\n",
      "Epoch 18/100\n",
      "404/404 [==============================] - 0s 123us/step - loss: 21.3707 - accuracy: 0.0173\n",
      "Epoch 19/100\n",
      "404/404 [==============================] - 0s 153us/step - loss: 20.2848 - accuracy: 0.0099\n",
      "Epoch 20/100\n",
      "404/404 [==============================] - 0s 230us/step - loss: 19.2150 - accuracy: 0.0074\n",
      "Epoch 21/100\n",
      "404/404 [==============================] - 0s 141us/step - loss: 20.0072 - accuracy: 0.0173\n",
      "Epoch 22/100\n",
      "404/404 [==============================] - 0s 151us/step - loss: 19.3188 - accuracy: 0.0248\n",
      "Epoch 23/100\n",
      "404/404 [==============================] - 0s 143us/step - loss: 20.8353 - accuracy: 0.0149\n",
      "Epoch 24/100\n",
      "404/404 [==============================] - 0s 138us/step - loss: 18.8314 - accuracy: 0.0173\n",
      "Epoch 25/100\n",
      "404/404 [==============================] - 0s 180us/step - loss: 17.2529 - accuracy: 0.0173\n",
      "Epoch 26/100\n",
      "404/404 [==============================] - 0s 151us/step - loss: 18.7979 - accuracy: 0.0173\n",
      "Epoch 27/100\n",
      "404/404 [==============================] - 0s 121us/step - loss: 16.8585 - accuracy: 0.0099\n",
      "Epoch 28/100\n",
      "404/404 [==============================] - 0s 163us/step - loss: 17.9528 - accuracy: 0.0099\n",
      "Epoch 29/100\n",
      "404/404 [==============================] - 0s 168us/step - loss: 18.5098 - accuracy: 0.0149\n",
      "Epoch 30/100\n",
      "404/404 [==============================] - 0s 136us/step - loss: 19.0411 - accuracy: 0.0149\n",
      "Epoch 31/100\n",
      "404/404 [==============================] - 0s 161us/step - loss: 18.5839 - accuracy: 0.0173\n",
      "Epoch 32/100\n",
      "404/404 [==============================] - 0s 154us/step - loss: 18.1132 - accuracy: 0.0149\n",
      "Epoch 33/100\n",
      "404/404 [==============================] - 0s 146us/step - loss: 18.4748 - accuracy: 0.0173\n",
      "Epoch 34/100\n",
      "404/404 [==============================] - 0s 143us/step - loss: 17.1798 - accuracy: 0.0173\n",
      "Epoch 35/100\n",
      "404/404 [==============================] - 0s 202us/step - loss: 17.0152 - accuracy: 0.0099\n",
      "Epoch 36/100\n",
      "404/404 [==============================] - 0s 185us/step - loss: 18.2182 - accuracy: 0.0099\n",
      "Epoch 37/100\n",
      "404/404 [==============================] - 0s 146us/step - loss: 17.0531 - accuracy: 0.0074\n",
      "Epoch 38/100\n",
      "404/404 [==============================] - 0s 163us/step - loss: 17.9062 - accuracy: 0.0198\n",
      "Epoch 39/100\n",
      "404/404 [==============================] - 0s 163us/step - loss: 16.6691 - accuracy: 0.0173\n",
      "Epoch 40/100\n",
      "404/404 [==============================] - 0s 175us/step - loss: 19.9846 - accuracy: 0.0149\n",
      "Epoch 41/100\n",
      "404/404 [==============================] - 0s 165us/step - loss: 19.8703 - accuracy: 0.0149\n",
      "Epoch 42/100\n",
      "404/404 [==============================] - 0s 158us/step - loss: 17.6942 - accuracy: 0.0074\n",
      "Epoch 43/100\n",
      "404/404 [==============================] - 0s 173us/step - loss: 17.8297 - accuracy: 0.0149\n",
      "Epoch 44/100\n",
      "404/404 [==============================] - 0s 141us/step - loss: 16.5718 - accuracy: 0.0173\n",
      "Epoch 45/100\n",
      "404/404 [==============================] - 0s 126us/step - loss: 18.2458 - accuracy: 0.0124\n",
      "Epoch 46/100\n",
      "404/404 [==============================] - 0s 123us/step - loss: 20.2513 - accuracy: 0.0099\n",
      "Epoch 47/100\n",
      "404/404 [==============================] - 0s 136us/step - loss: 20.7835 - accuracy: 0.0149\n",
      "Epoch 48/100\n",
      "404/404 [==============================] - 0s 131us/step - loss: 18.9167 - accuracy: 0.0099\n",
      "Epoch 49/100\n",
      "404/404 [==============================] - 0s 153us/step - loss: 17.1497 - accuracy: 0.0248\n",
      "Epoch 50/100\n",
      "404/404 [==============================] - 0s 188us/step - loss: 16.8422 - accuracy: 0.0173\n",
      "Epoch 51/100\n",
      "404/404 [==============================] - 0s 190us/step - loss: 16.2964 - accuracy: 0.0173\n",
      "Epoch 52/100\n",
      "404/404 [==============================] - 0s 138us/step - loss: 16.5678 - accuracy: 0.0074\n",
      "Epoch 53/100\n",
      "404/404 [==============================] - 0s 161us/step - loss: 16.2343 - accuracy: 0.0149\n",
      "Epoch 54/100\n",
      "404/404 [==============================] - 0s 222us/step - loss: 16.1298 - accuracy: 0.0223\n",
      "Epoch 55/100\n",
      "404/404 [==============================] - 0s 151us/step - loss: 16.0138 - accuracy: 0.0099\n",
      "Epoch 56/100\n",
      "404/404 [==============================] - 0s 158us/step - loss: 16.6110 - accuracy: 0.0124\n",
      "Epoch 57/100\n",
      "404/404 [==============================] - 0s 128us/step - loss: 17.4496 - accuracy: 0.0099\n",
      "Epoch 58/100\n",
      "404/404 [==============================] - 0s 143us/step - loss: 16.6044 - accuracy: 0.0099\n",
      "Epoch 59/100\n",
      "404/404 [==============================] - 0s 118us/step - loss: 15.9605 - accuracy: 0.0149\n",
      "Epoch 60/100\n",
      "404/404 [==============================] - 0s 121us/step - loss: 16.1155 - accuracy: 0.0099\n",
      "Epoch 61/100\n",
      "404/404 [==============================] - 0s 118us/step - loss: 17.5318 - accuracy: 0.0248\n",
      "Epoch 62/100\n",
      "404/404 [==============================] - 0s 123us/step - loss: 15.9913 - accuracy: 0.0099\n",
      "Epoch 63/100\n",
      "404/404 [==============================] - 0s 136us/step - loss: 15.7891 - accuracy: 0.0074\n",
      "Epoch 64/100\n",
      "404/404 [==============================] - 0s 123us/step - loss: 15.6794 - accuracy: 0.0198\n",
      "Epoch 65/100\n",
      "404/404 [==============================] - 0s 153us/step - loss: 15.6690 - accuracy: 0.0149\n",
      "Epoch 66/100\n",
      "404/404 [==============================] - 0s 183us/step - loss: 15.8318 - accuracy: 0.0099\n",
      "Epoch 67/100\n",
      "404/404 [==============================] - 0s 178us/step - loss: 16.0616 - accuracy: 0.0050\n",
      "Epoch 68/100\n",
      "404/404 [==============================] - 0s 143us/step - loss: 15.4378 - accuracy: 0.0074\n",
      "Epoch 69/100\n",
      "404/404 [==============================] - 0s 133us/step - loss: 15.5688 - accuracy: 0.0074\n",
      "Epoch 70/100\n",
      "404/404 [==============================] - 0s 141us/step - loss: 17.4269 - accuracy: 0.0124\n",
      "Epoch 71/100\n",
      "404/404 [==============================] - 0s 153us/step - loss: 16.7818 - accuracy: 0.0124\n",
      "Epoch 72/100\n",
      "404/404 [==============================] - 0s 126us/step - loss: 17.0190 - accuracy: 0.0149\n",
      "Epoch 73/100\n",
      "404/404 [==============================] - 0s 116us/step - loss: 16.1972 - accuracy: 0.0124\n",
      "Epoch 74/100\n",
      "404/404 [==============================] - 0s 128us/step - loss: 16.0421 - accuracy: 0.0099\n",
      "Epoch 75/100\n",
      "404/404 [==============================] - 0s 143us/step - loss: 15.6751 - accuracy: 0.0124\n",
      "Epoch 76/100\n",
      "404/404 [==============================] - 0s 160us/step - loss: 15.5185 - accuracy: 0.0248\n",
      "Epoch 77/100\n",
      "404/404 [==============================] - 0s 128us/step - loss: 15.7764 - accuracy: 0.0198\n",
      "Epoch 78/100\n",
      "404/404 [==============================] - 0s 144us/step - loss: 15.0348 - accuracy: 0.0074\n",
      "Epoch 79/100\n"
     ]
    },
    {
     "name": "stdout",
     "output_type": "stream",
     "text": [
      "404/404 [==============================] - 0s 148us/step - loss: 15.2687 - accuracy: 0.0149\n",
      "Epoch 80/100\n",
      "404/404 [==============================] - 0s 136us/step - loss: 17.7470 - accuracy: 0.0050\n",
      "Epoch 81/100\n",
      "404/404 [==============================] - ETA: 0s - loss: 14.1773 - accuracy: 0.031 - 0s 146us/step - loss: 16.0449 - accuracy: 0.0074\n",
      "Epoch 82/100\n",
      "404/404 [==============================] - 0s 146us/step - loss: 15.7915 - accuracy: 0.0198\n",
      "Epoch 83/100\n",
      "404/404 [==============================] - 0s 133us/step - loss: 16.1912 - accuracy: 0.0173\n",
      "Epoch 84/100\n",
      "404/404 [==============================] - 0s 126us/step - loss: 16.7306 - accuracy: 0.0025\n",
      "Epoch 85/100\n",
      "404/404 [==============================] - 0s 133us/step - loss: 15.7014 - accuracy: 0.0099\n",
      "Epoch 86/100\n",
      "404/404 [==============================] - 0s 118us/step - loss: 16.1094 - accuracy: 0.0149\n",
      "Epoch 87/100\n",
      "404/404 [==============================] - 0s 126us/step - loss: 15.2635 - accuracy: 0.0099\n",
      "Epoch 88/100\n",
      "404/404 [==============================] - 0s 153us/step - loss: 14.9961 - accuracy: 0.0124\n",
      "Epoch 89/100\n",
      "404/404 [==============================] - 0s 143us/step - loss: 15.9265 - accuracy: 0.0248\n",
      "Epoch 90/100\n",
      "404/404 [==============================] - 0s 128us/step - loss: 16.0929 - accuracy: 0.0173\n",
      "Epoch 91/100\n",
      "404/404 [==============================] - 0s 156us/step - loss: 15.2593 - accuracy: 0.0149\n",
      "Epoch 92/100\n",
      "404/404 [==============================] - 0s 173us/step - loss: 14.9176 - accuracy: 0.0149\n",
      "Epoch 93/100\n",
      "404/404 [==============================] - 0s 138us/step - loss: 15.3936 - accuracy: 0.0149\n",
      "Epoch 94/100\n",
      "404/404 [==============================] - 0s 133us/step - loss: 16.7196 - accuracy: 0.0149\n",
      "Epoch 95/100\n",
      "404/404 [==============================] - 0s 128us/step - loss: 17.1450 - accuracy: 0.0272\n",
      "Epoch 96/100\n",
      "404/404 [==============================] - 0s 121us/step - loss: 14.9942 - accuracy: 0.0149\n",
      "Epoch 97/100\n",
      "404/404 [==============================] - 0s 136us/step - loss: 15.2047 - accuracy: 0.0124\n",
      "Epoch 98/100\n",
      "404/404 [==============================] - 0s 173us/step - loss: 15.4739 - accuracy: 0.0149\n",
      "Epoch 99/100\n",
      "404/404 [==============================] - 0s 175us/step - loss: 15.8642 - accuracy: 0.0198\n",
      "Epoch 100/100\n",
      "404/404 [==============================] - 0s 197us/step - loss: 15.1262 - accuracy: 0.0099\n"
     ]
    },
    {
     "data": {
      "text/plain": [
       "<keras.callbacks.callbacks.History at 0x1db6ec0c518>"
      ]
     },
     "execution_count": 253,
     "metadata": {},
     "output_type": "execute_result"
    }
   ],
   "source": [
    "# train the model\n",
    "# add 'early stopping' function. The more epochs means the more time it will take to run the model. If the model stops \n",
    "# improving as it runs through the epochs, 'early stopping' will stop the model.\n",
    "\n",
    "# https://towardsdatascience.com/building-a-deep-learning-model-using-keras-1548ca149d37 (8)\n",
    "#set early stopping monitor so the model stops training when it won't improve anymore\n",
    "early_stopping_monitor = EarlyStopping(patience=3)\n",
    "#train model\n",
    "m.fit(xtrain, ytrain, epochs=100, callbacks=[early_stopping_monitor])\n"
   ]
  },
  {
   "cell_type": "code",
   "execution_count": 254,
   "metadata": {},
   "outputs": [
    {
     "data": {
      "text/plain": [
       "array([[24.830183]], dtype=float32)"
      ]
     },
     "execution_count": 254,
     "metadata": {},
     "output_type": "execute_result"
    }
   ],
   "source": [
    "#m.predict(xtest)\n",
    "p = m.predict(xtest)[:1]\n",
    "p"
   ]
  },
  {
   "cell_type": "code",
   "execution_count": 255,
   "metadata": {},
   "outputs": [
    {
     "name": "stdout",
     "output_type": "stream",
     "text": [
      "102/102 [==============================] - 0s 2ms/step\n"
     ]
    },
    {
     "data": {
      "text/plain": [
       "[30.109036585863898, 0.009803921915590763]"
      ]
     },
     "execution_count": 255,
     "metadata": {},
     "output_type": "execute_result"
    }
   ],
   "source": [
    "m.evaluate(xtest, ytest)"
   ]
  },
  {
   "cell_type": "markdown",
   "metadata": {},
   "source": [
    "### PREDICTION CONCLUSION"
   ]
  },
  {
   "cell_type": "code",
   "execution_count": null,
   "metadata": {},
   "outputs": [],
   "source": []
  },
  {
   "cell_type": "markdown",
   "metadata": {},
   "source": [
    "## REFERENCES\n",
    "1. https://www.cs.toronto.edu/~delve/data/boston/bostonDetail.html\n",
    "2. https://stackoverflow.com/questions/29530232/how-to-check-if-any-value-is-nan-in-a-pandas-dataframe\n",
    "1a. https://github.com/selva86/datasets/blob/master/BostonHousing.csv\n",
    "3. https://towardsdatascience.com/hypothesis-testing-using-t-test-inferential-statistics-part3-6fb43683bc32\n",
    "2. https://towardsdatascience.com/linear-regression-on-boston-housing-dataset-f409b7e4a155\n",
    "4. https://hackernoon.com/build-your-first-neural-network-to-predict-house-prices-with-keras-3fb0839680f4\n",
    "5. https://nbviewer.jupyter.org/github/ianmcloughlin/jupyter-teaching-notebooks/blob/master/preprocessing.ipynb"
   ]
  },
  {
   "cell_type": "code",
   "execution_count": null,
   "metadata": {},
   "outputs": [],
   "source": []
  }
 ],
 "metadata": {
  "kernelspec": {
   "display_name": "Python 3",
   "language": "python",
   "name": "python3"
  },
  "language_info": {
   "codemirror_mode": {
    "name": "ipython",
    "version": 3
   },
   "file_extension": ".py",
   "mimetype": "text/x-python",
   "name": "python",
   "nbconvert_exporter": "python",
   "pygments_lexer": "ipython3",
   "version": "3.7.3"
  }
 },
 "nbformat": 4,
 "nbformat_minor": 2
}
